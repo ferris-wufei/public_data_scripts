{
 "cells": [
  {
   "cell_type": "markdown",
   "metadata": {},
   "source": [
    "Background: (Jira: DA-422) \n",
    "\n",
    "Retrived person features per user device from Quest Mobile (3rd party persona service). \n",
    "\n",
    "To determine whether the QM features improve classification score on top of LLS common persona features."
   ]
  },
  {
   "cell_type": "markdown",
   "metadata": {},
   "source": [
    "## Classifier Score"
   ]
  },
  {
   "cell_type": "code",
   "execution_count": 1,
   "metadata": {},
   "outputs": [],
   "source": [
    "from helper_sqlbuffet import *\n",
    "# from bokeh.io import output_notebook, show\n",
    "# from bokeh.plotting import figure\n",
    "# from bokeh.models import ColumnDataSource\n",
    "import pandas as pd\n",
    "import numpy as np\n",
    "\n",
    "import lightgbm as lgb\n",
    "from sklearn.model_selection import train_test_split, cross_val_score\n",
    "from bayes_opt import BayesianOptimization"
   ]
  },
  {
   "cell_type": "code",
   "execution_count": 2,
   "metadata": {},
   "outputs": [],
   "source": [
    "# read raw\n",
    "# some source tables were imported from offline data\n",
    "df_raw = query2df('./sql_training_data_with_lls_qm_persona_features.sql')"
   ]
  },
  {
   "cell_type": "code",
   "execution_count": 3,
   "metadata": {},
   "outputs": [],
   "source": [
    "# set label and feature columns\n",
    "_label = 'ordered_cc'\n",
    "\n",
    "_lls_features = ['lls_profession', 'gender', 'is_child', 'city_level', 'province', 'platform', 'channel']\n",
    "_qm_features = ['age', 'marriage', 'children', 'qm_profession', 'online_purchasing_power']\n",
    "\n",
    "_lls_cate_features = ['lls_profession', 'gender', 'province', 'platform', 'channel']\n",
    "_qm_cate_features = ['age', 'marriage', 'children', 'qm_profession']\n",
    "\n",
    "# convert object to string columns\n",
    "for col in _lls_cate_features + _qm_cate_features:\n",
    "    df_raw[col] = df_raw[col].astype('category')"
   ]
  },
  {
   "cell_type": "code",
   "execution_count": 4,
   "metadata": {},
   "outputs": [],
   "source": [
    "# Bayesian Opt\n",
    "# ref: https://gist.github.com/mohit-sinha/be3f2999eb21d1992d03b7590fe2d88b\n",
    "def lgb_eval(num_leaves,\n",
    "             max_depth,\n",
    "             min_child_weight,\n",
    "             subsample,\n",
    "             colsample_bytree):\n",
    "    \n",
    "    clf = lgb.LGBMClassifier(\n",
    "        objective = 'binary',\n",
    "        metric= 'auc',\n",
    "        eval_metric= 'auc',\n",
    "        n_estimators= 2000,\n",
    "        # early_stopping_rounds = 50,\n",
    "        num_leaves= int(num_leaves),\n",
    "        max_depth= int(max_depth),\n",
    "        min_child_weight= min_child_weight,\n",
    "        subsample= subsample,\n",
    "        colsample_bytreeple_bytree= colsample_bytree,\n",
    "        verbose =-1\n",
    "    )\n",
    "    \n",
    "    scores = cross_val_score(clf, train_x, train_y, cv=4, scoring='roc_auc')\n",
    "    return np.mean(scores)\n",
    "\n",
    "params = {\n",
    "          'num_leaves': (3, 20),\n",
    "          'max_depth': (2, 10),\n",
    "          'min_child_weight': (0.01, 70),\n",
    "          'subsample': (0.4, 1),                                                \n",
    "          'colsample_bytree': (0.4, 1)\n",
    "          }\n",
    "\n",
    "def bo_opt(eval_model, params):\n",
    "    optimizer = BayesianOptimization(eval_model, params)\n",
    "    optimizer.maximize(init_points=5, n_iter=10)\n",
    "    print(optimizer.max['params'])\n",
    "    print(optimizer.max['target'])"
   ]
  },
  {
   "cell_type": "code",
   "execution_count": 5,
   "metadata": {},
   "outputs": [
    {
     "name": "stdout",
     "output_type": "stream",
     "text": [
      "|   iter    |  target   | colsam... | max_depth | min_ch... | num_le... | subsample |\n",
      "-------------------------------------------------------------------------------------\n",
      "| \u001b[0m 1       \u001b[0m | \u001b[0m 0.6667  \u001b[0m | \u001b[0m 0.6567  \u001b[0m | \u001b[0m 7.872   \u001b[0m | \u001b[0m 7.412   \u001b[0m | \u001b[0m 12.73   \u001b[0m | \u001b[0m 0.9997  \u001b[0m |\n",
      "| \u001b[95m 2       \u001b[0m | \u001b[95m 0.7132  \u001b[0m | \u001b[95m 0.4164  \u001b[0m | \u001b[95m 5.698   \u001b[0m | \u001b[95m 67.84   \u001b[0m | \u001b[95m 6.234   \u001b[0m | \u001b[95m 0.5365  \u001b[0m |\n",
      "| \u001b[0m 3       \u001b[0m | \u001b[0m 0.6705  \u001b[0m | \u001b[0m 0.7529  \u001b[0m | \u001b[0m 4.068   \u001b[0m | \u001b[0m 16.84   \u001b[0m | \u001b[0m 19.38   \u001b[0m | \u001b[0m 0.4073  \u001b[0m |\n",
      "| \u001b[0m 4       \u001b[0m | \u001b[0m 0.6756  \u001b[0m | \u001b[0m 0.5727  \u001b[0m | \u001b[0m 6.514   \u001b[0m | \u001b[0m 44.16   \u001b[0m | \u001b[0m 16.7    \u001b[0m | \u001b[0m 0.695   \u001b[0m |\n",
      "| \u001b[0m 5       \u001b[0m | \u001b[0m 0.701   \u001b[0m | \u001b[0m 0.9604  \u001b[0m | \u001b[0m 3.334   \u001b[0m | \u001b[0m 28.67   \u001b[0m | \u001b[0m 9.405   \u001b[0m | \u001b[0m 0.5422  \u001b[0m |\n",
      "| \u001b[95m 6       \u001b[0m | \u001b[95m 0.7535  \u001b[0m | \u001b[95m 0.8148  \u001b[0m | \u001b[95m 2.0     \u001b[0m | \u001b[95m 70.0    \u001b[0m | \u001b[95m 3.0     \u001b[0m | \u001b[95m 1.0     \u001b[0m |\n",
      "| \u001b[0m 7       \u001b[0m | \u001b[0m 0.7473  \u001b[0m | \u001b[0m 0.6164  \u001b[0m | \u001b[0m 2.069   \u001b[0m | \u001b[0m 69.91   \u001b[0m | \u001b[0m 19.3    \u001b[0m | \u001b[0m 0.8288  \u001b[0m |\n",
      "| \u001b[0m 8       \u001b[0m | \u001b[0m 0.7383  \u001b[0m | \u001b[0m 0.6055  \u001b[0m | \u001b[0m 2.102   \u001b[0m | \u001b[0m 0.1944  \u001b[0m | \u001b[0m 3.228   \u001b[0m | \u001b[0m 0.9455  \u001b[0m |\n",
      "| \u001b[0m 9       \u001b[0m | \u001b[0m 0.7535  \u001b[0m | \u001b[0m 1.0     \u001b[0m | \u001b[0m 2.0     \u001b[0m | \u001b[0m 70.0    \u001b[0m | \u001b[0m 3.0     \u001b[0m | \u001b[0m 0.4     \u001b[0m |\n",
      "| \u001b[0m 10      \u001b[0m | \u001b[0m 0.7474  \u001b[0m | \u001b[0m 0.6187  \u001b[0m | \u001b[0m 2.041   \u001b[0m | \u001b[0m 69.82   \u001b[0m | \u001b[0m 4.015   \u001b[0m | \u001b[0m 0.4333  \u001b[0m |\n",
      "| \u001b[0m 11      \u001b[0m | \u001b[0m 0.7471  \u001b[0m | \u001b[0m 0.9779  \u001b[0m | \u001b[0m 2.079   \u001b[0m | \u001b[0m 68.39   \u001b[0m | \u001b[0m 13.45   \u001b[0m | \u001b[0m 0.9514  \u001b[0m |\n",
      "| \u001b[0m 12      \u001b[0m | \u001b[0m 0.753   \u001b[0m | \u001b[0m 0.9351  \u001b[0m | \u001b[0m 2.094   \u001b[0m | \u001b[0m 68.66   \u001b[0m | \u001b[0m 3.147   \u001b[0m | \u001b[0m 0.8491  \u001b[0m |\n",
      "| \u001b[0m 13      \u001b[0m | \u001b[0m 0.7535  \u001b[0m | \u001b[0m 0.9905  \u001b[0m | \u001b[0m 2.018   \u001b[0m | \u001b[0m 62.58   \u001b[0m | \u001b[0m 3.476   \u001b[0m | \u001b[0m 0.8822  \u001b[0m |\n",
      "| \u001b[95m 14      \u001b[0m | \u001b[95m 0.7537  \u001b[0m | \u001b[95m 0.9523  \u001b[0m | \u001b[95m 2.003   \u001b[0m | \u001b[95m 66.44   \u001b[0m | \u001b[95m 3.211   \u001b[0m | \u001b[95m 0.7823  \u001b[0m |\n",
      "| \u001b[0m 15      \u001b[0m | \u001b[0m 0.7531  \u001b[0m | \u001b[0m 0.9879  \u001b[0m | \u001b[0m 2.047   \u001b[0m | \u001b[0m 69.89   \u001b[0m | \u001b[0m 3.069   \u001b[0m | \u001b[0m 0.4272  \u001b[0m |\n",
      "=====================================================================================\n",
      "{'colsample_bytree': 0.9522778796779117, 'max_depth': 2.003110522785523, 'min_child_weight': 66.43925406888788, 'num_leaves': 3.2113758893341453, 'subsample': 0.782342725570442}\n",
      "0.7536856987256775\n"
     ]
    }
   ],
   "source": [
    "# use lls + qm features\n",
    "train_x = df_raw[_lls_features + _qm_features]\n",
    "train_y = df_raw[_label]\n",
    "\n",
    "bo_opt(lgb_eval, params)"
   ]
  },
  {
   "cell_type": "code",
   "execution_count": 6,
   "metadata": {},
   "outputs": [
    {
     "name": "stdout",
     "output_type": "stream",
     "text": [
      "|   iter    |  target   | colsam... | max_depth | min_ch... | num_le... | subsample |\n",
      "-------------------------------------------------------------------------------------\n",
      "| \u001b[0m 1       \u001b[0m | \u001b[0m 0.7142  \u001b[0m | \u001b[0m 0.6403  \u001b[0m | \u001b[0m 6.02    \u001b[0m | \u001b[0m 40.13   \u001b[0m | \u001b[0m 18.6    \u001b[0m | \u001b[0m 0.7314  \u001b[0m |\n",
      "| \u001b[95m 2       \u001b[0m | \u001b[95m 0.7171  \u001b[0m | \u001b[95m 0.6098  \u001b[0m | \u001b[95m 7.847   \u001b[0m | \u001b[95m 44.58   \u001b[0m | \u001b[95m 17.44   \u001b[0m | \u001b[95m 0.9163  \u001b[0m |\n",
      "| \u001b[95m 3       \u001b[0m | \u001b[95m 0.7342  \u001b[0m | \u001b[95m 0.971   \u001b[0m | \u001b[95m 5.26    \u001b[0m | \u001b[95m 63.94   \u001b[0m | \u001b[95m 18.15   \u001b[0m | \u001b[95m 0.5056  \u001b[0m |\n",
      "| \u001b[0m 4       \u001b[0m | \u001b[0m 0.7113  \u001b[0m | \u001b[0m 0.7882  \u001b[0m | \u001b[0m 6.009   \u001b[0m | \u001b[0m 33.32   \u001b[0m | \u001b[0m 12.03   \u001b[0m | \u001b[0m 0.8579  \u001b[0m |\n",
      "| \u001b[95m 5       \u001b[0m | \u001b[95m 0.7452  \u001b[0m | \u001b[95m 0.8589  \u001b[0m | \u001b[95m 3.731   \u001b[0m | \u001b[95m 62.35   \u001b[0m | \u001b[95m 10.9    \u001b[0m | \u001b[95m 0.9453  \u001b[0m |\n",
      "| \u001b[95m 6       \u001b[0m | \u001b[95m 0.764   \u001b[0m | \u001b[95m 0.6681  \u001b[0m | \u001b[95m 2.374   \u001b[0m | \u001b[95m 69.79   \u001b[0m | \u001b[95m 3.01    \u001b[0m | \u001b[95m 0.6222  \u001b[0m |\n",
      "| \u001b[0m 7       \u001b[0m | \u001b[0m 0.7637  \u001b[0m | \u001b[0m 0.7226  \u001b[0m | \u001b[0m 9.707   \u001b[0m | \u001b[0m 69.7    \u001b[0m | \u001b[0m 3.048   \u001b[0m | \u001b[0m 0.7691  \u001b[0m |\n",
      "| \u001b[0m 8       \u001b[0m | \u001b[0m 0.7636  \u001b[0m | \u001b[0m 0.5198  \u001b[0m | \u001b[0m 2.633   \u001b[0m | \u001b[0m 69.1    \u001b[0m | \u001b[0m 3.053   \u001b[0m | \u001b[0m 0.9963  \u001b[0m |\n",
      "| \u001b[0m 9       \u001b[0m | \u001b[0m 0.7636  \u001b[0m | \u001b[0m 0.5914  \u001b[0m | \u001b[0m 2.157   \u001b[0m | \u001b[0m 69.91   \u001b[0m | \u001b[0m 3.173   \u001b[0m | \u001b[0m 0.5149  \u001b[0m |\n",
      "| \u001b[0m 10      \u001b[0m | \u001b[0m 0.763   \u001b[0m | \u001b[0m 0.9192  \u001b[0m | \u001b[0m 8.496   \u001b[0m | \u001b[0m 69.77   \u001b[0m | \u001b[0m 3.019   \u001b[0m | \u001b[0m 0.8242  \u001b[0m |\n",
      "| \u001b[0m 11      \u001b[0m | \u001b[0m 0.7637  \u001b[0m | \u001b[0m 0.4008  \u001b[0m | \u001b[0m 2.417   \u001b[0m | \u001b[0m 69.84   \u001b[0m | \u001b[0m 3.004   \u001b[0m | \u001b[0m 0.6644  \u001b[0m |\n",
      "| \u001b[0m 12      \u001b[0m | \u001b[0m 0.7631  \u001b[0m | \u001b[0m 0.9572  \u001b[0m | \u001b[0m 2.938   \u001b[0m | \u001b[0m 69.89   \u001b[0m | \u001b[0m 3.127   \u001b[0m | \u001b[0m 0.4975  \u001b[0m |\n",
      "| \u001b[0m 13      \u001b[0m | \u001b[0m 0.7629  \u001b[0m | \u001b[0m 0.5819  \u001b[0m | \u001b[0m 9.829   \u001b[0m | \u001b[0m 69.49   \u001b[0m | \u001b[0m 3.038   \u001b[0m | \u001b[0m 0.4411  \u001b[0m |\n",
      "| \u001b[0m 14      \u001b[0m | \u001b[0m 0.7637  \u001b[0m | \u001b[0m 0.9417  \u001b[0m | \u001b[0m 2.823   \u001b[0m | \u001b[0m 69.84   \u001b[0m | \u001b[0m 3.177   \u001b[0m | \u001b[0m 0.9977  \u001b[0m |\n",
      "| \u001b[0m 15      \u001b[0m | \u001b[0m 0.7637  \u001b[0m | \u001b[0m 0.6513  \u001b[0m | \u001b[0m 3.135   \u001b[0m | \u001b[0m 69.95   \u001b[0m | \u001b[0m 3.023   \u001b[0m | \u001b[0m 0.9773  \u001b[0m |\n",
      "=====================================================================================\n",
      "{'colsample_bytree': 0.6681492887466043, 'max_depth': 2.374006477411415, 'min_child_weight': 69.78868932873998, 'num_leaves': 3.009727820583227, 'subsample': 0.6221567768874011}\n",
      "0.7640198645174252\n"
     ]
    }
   ],
   "source": [
    "# use lls features only\n",
    "train_x = df_raw[_lls_features]\n",
    "train_y = df_raw[_label]\n",
    "\n",
    "bo_opt(lgb_eval, params)"
   ]
  },
  {
   "cell_type": "markdown",
   "metadata": {},
   "source": [
    "So Quest Mobile features doesn't help improving AUC."
   ]
  },
  {
   "cell_type": "markdown",
   "metadata": {},
   "source": [
    "## Effect Size"
   ]
  },
  {
   "cell_type": "code",
   "execution_count": 7,
   "metadata": {},
   "outputs": [],
   "source": [
    "import scipy.stats as ss\n",
    "\n",
    "def cramers_stat(crosstab):\n",
    "    chi2 = ss.chi2_contingency(crosstab)[0]\n",
    "    n = crosstab.values.sum()\n",
    "    return np.sqrt(chi2 / (n*(min(crosstab.shape)-1)))"
   ]
  },
  {
   "cell_type": "code",
   "execution_count": 8,
   "metadata": {},
   "outputs": [
    {
     "name": "stdout",
     "output_type": "stream",
     "text": [
      "--- LLS features\n",
      "Cramer's V for lls_profession: 0.1358\n",
      "Cramer's V for gender: 0.0339\n",
      "Cramer's V for province: 0.1122\n",
      "Cramer's V for platform: 0.0552\n",
      "Cramer's V for channel: 0.0774\n",
      "--- QM features\n",
      "Cramer's V for age: 0.0312\n",
      "Cramer's V for marriage: 0.0194\n",
      "Cramer's V for children: 0.0202\n",
      "Cramer's V for qm_profession: 0.033\n"
     ]
    }
   ],
   "source": [
    "print(\"--- LLS features\")\n",
    "for col in _lls_cate_features:\n",
    "    cm = pd.crosstab(df_raw[_label].astype(str),df_raw[col])\n",
    "    print(\"Cramer's V for {0}: {1}\".format(col, round(cramers_stat(cm),4)))\n",
    "\n",
    "print(\"--- QM features\")\n",
    "for col in _qm_cate_features:\n",
    "    cm = pd.crosstab(df_raw[_label].astype(str),df_raw[col])\n",
    "    print(\"Cramer's V for {0}: {1}\".format(col, round(cramers_stat(cm),4)))"
   ]
  },
  {
   "cell_type": "code",
   "execution_count": 9,
   "metadata": {},
   "outputs": [],
   "source": [
    "def eta_squared(col, val):\n",
    "    mean_global = val.mean()\n",
    "    ss_total = np.sum(np.square(val - mean_global))\n",
    "    grouped = pd.DataFrame({'y': col, 'x': val}).groupby('y').agg({np.mean, len}).reset_index()\n",
    "    ss_treat = np.sum(np.square(grouped['x']['mean'] - mean_global)*grouped['x']['len'])\n",
    "    return ss_treat/ss_total"
   ]
  },
  {
   "cell_type": "code",
   "execution_count": 11,
   "metadata": {},
   "outputs": [
    {
     "name": "stdout",
     "output_type": "stream",
     "text": [
      "--- LLS features\n",
      "Eta-Squared for is_child: 0.0022\n",
      "Eta-Squared for city_level: 0.0006\n",
      "--- QM features\n",
      "Eta-Squared for online_purchasing_power: 0.0013\n"
     ]
    }
   ],
   "source": [
    "print(\"--- LLS features\")\n",
    "for col in _lls_features:\n",
    "    if col not in _lls_cate_features:\n",
    "        eta_2 = eta_squared(df_raw[_label].astype(str),df_raw[col])\n",
    "        print(\"Eta-Squared for {0}: {1}\".format(col, round(eta_2,4)))\n",
    "\n",
    "print(\"--- QM features\")\n",
    "for col in _qm_features:\n",
    "    if col not in _qm_cate_features:\n",
    "        eta_2 = eta_squared(df_raw[_label].astype(str),df_raw[col])\n",
    "        print(\"Eta-Squared for {0}: {1}\".format(col, round(eta_2,4)))"
   ]
  },
  {
   "cell_type": "code",
   "execution_count": null,
   "metadata": {},
   "outputs": [],
   "source": []
  }
 ],
 "metadata": {
  "kernelspec": {
   "display_name": "Python 3 (ipykernel)",
   "language": "python",
   "name": "python3"
  },
  "language_info": {
   "codemirror_mode": {
    "name": "ipython",
    "version": 3
   },
   "file_extension": ".py",
   "mimetype": "text/x-python",
   "name": "python",
   "nbconvert_exporter": "python",
   "pygments_lexer": "ipython3",
   "version": "3.10.4"
  }
 },
 "nbformat": 4,
 "nbformat_minor": 4
}
