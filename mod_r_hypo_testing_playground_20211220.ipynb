{
 "cells": [
  {
   "cell_type": "code",
   "execution_count": 1,
   "metadata": {},
   "outputs": [
    {
     "name": "stderr",
     "output_type": "stream",
     "text": [
      "Loading required package: tidyverse\n",
      "\n",
      "── \u001b[1mAttaching packages\u001b[22m ────────────────────────────────────────────────────────────────────────────────────────────────────────────────────────────────────────────────────────────────────────────────────────────── tidyverse 1.3.1 ──\n",
      "\n",
      "\u001b[32m✔\u001b[39m \u001b[34mggplot2\u001b[39m 3.3.5     \u001b[32m✔\u001b[39m \u001b[34mpurrr  \u001b[39m 0.3.4\n",
      "\u001b[32m✔\u001b[39m \u001b[34mtibble \u001b[39m 3.1.6     \u001b[32m✔\u001b[39m \u001b[34mdplyr  \u001b[39m 1.0.7\n",
      "\u001b[32m✔\u001b[39m \u001b[34mtidyr  \u001b[39m 1.1.4     \u001b[32m✔\u001b[39m \u001b[34mstringr\u001b[39m 1.4.0\n",
      "\u001b[32m✔\u001b[39m \u001b[34mreadr  \u001b[39m 2.1.1     \u001b[32m✔\u001b[39m \u001b[34mforcats\u001b[39m 0.5.1\n",
      "\n",
      "── \u001b[1mConflicts\u001b[22m ───────────────────────────────────────────────────────────────────────────────────────────────────────────────────────────────────────────────────────────────────────────────────────────────── tidyverse_conflicts() ──\n",
      "\u001b[31m✖\u001b[39m \u001b[34mdplyr\u001b[39m::\u001b[32mfilter()\u001b[39m masks \u001b[34mstats\u001b[39m::filter()\n",
      "\u001b[31m✖\u001b[39m \u001b[34mdplyr\u001b[39m::\u001b[32mlag()\u001b[39m    masks \u001b[34mstats\u001b[39m::lag()\n",
      "\n"
     ]
    }
   ],
   "source": [
    "require(tidyverse)"
   ]
  },
  {
   "cell_type": "markdown",
   "metadata": {
    "cell_id": 6
   },
   "source": [
    "## Hypothesis Testing"
   ]
  },
  {
   "cell_type": "code",
   "execution_count": 2,
   "metadata": {
    "cell_id": 8
   },
   "outputs": [
    {
     "data": {
      "text/plain": [
       "\n",
       "\t2-sample test for equality of proportions with continuity correction\n",
       "\n",
       "data:  c(5, 8) out of c(243, 277)\n",
       "X-squared = 0.10479, df = 1, p-value = 0.3731\n",
       "alternative hypothesis: less\n",
       "95 percent confidence interval:\n",
       " -1.00000000  0.01788103\n",
       "sample estimates:\n",
       "    prop 1     prop 2 \n",
       "0.02057613 0.02888087 \n"
      ]
     },
     "metadata": {},
     "output_type": "display_data"
    }
   ],
   "source": [
    "# chi-squared testing\n",
    "prop.test(\n",
    "    n = c(243, 277), \n",
    "    x = c(5, 8), \n",
    "    alternative = \"less\", \n",
    "    conf.level = .95\n",
    ")"
   ]
  },
  {
   "cell_type": "code",
   "execution_count": 3,
   "metadata": {
    "cell_id": 9
   },
   "outputs": [
    {
     "data": {
      "text/plain": [
       "\n",
       "\tWelch Two Sample t-test\n",
       "\n",
       "data:  c(rep(2499, 28), rep(890, 337), rep(0, 2274)) and c(rep(2499, 35), rep(890, 328), rep(0, 2189))\n",
       "t = -0.77275, df = 5147.6, p-value = 0.4397\n",
       "alternative hypothesis: true difference in means is not equal to 0\n",
       "95 percent confidence interval:\n",
       " -30.04414  13.05544\n",
       "sample estimates:\n",
       "mean of x mean of y \n",
       " 140.1675  148.6618 \n"
      ]
     },
     "metadata": {},
     "output_type": "display_data"
    }
   ],
   "source": [
    "# student's t testing\n",
    "t.test(\n",
    "    x = c(rep(2499, 28), rep(890, 337), rep(0, 2274)), \n",
    "    y = c(rep(2499, 35), rep(890, 328), rep(0, 2189))\n",
    ")"
   ]
  },
  {
   "cell_type": "markdown",
   "metadata": {},
   "source": [
    "## Sample Size Inference"
   ]
  },
  {
   "cell_type": "code",
   "execution_count": 4,
   "metadata": {},
   "outputs": [
    {
     "name": "stderr",
     "output_type": "stream",
     "text": [
      "Warning message:\n",
      "“The `x` argument of `as_tibble.matrix()` must have unique column names if `.name_repair` is omitted as of tibble 2.0.0.\n",
      "Using compatibility `.name_repair`.\n",
      "\u001b[90mThis warning is displayed once every 8 hours.\u001b[39m\n",
      "\u001b[90mCall `lifecycle::last_lifecycle_warnings()` to see where this warning was generated.\u001b[39m”\n"
     ]
    },
    {
     "data": {
      "text/html": [
       "<table class=\"dataframe\">\n",
       "<caption>A tibble: 5 × 2</caption>\n",
       "<thead>\n",
       "\t<tr><th scope=col>V1</th><th scope=col>V2</th></tr>\n",
       "\t<tr><th scope=col>&lt;dbl&gt;</th><th scope=col>&lt;dbl&gt;</th></tr>\n",
       "</thead>\n",
       "<tbody>\n",
       "\t<tr><td>0.025</td><td>3098</td></tr>\n",
       "\t<tr><td>0.050</td><td> 790</td></tr>\n",
       "\t<tr><td>0.075</td><td> 357</td></tr>\n",
       "\t<tr><td>0.100</td><td> 204</td></tr>\n",
       "\t<tr><td>0.125</td><td> 132</td></tr>\n",
       "</tbody>\n",
       "</table>\n"
      ],
      "text/latex": [
       "A tibble: 5 × 2\n",
       "\\begin{tabular}{ll}\n",
       " V1 & V2\\\\\n",
       " <dbl> & <dbl>\\\\\n",
       "\\hline\n",
       "\t 0.025 & 3098\\\\\n",
       "\t 0.050 &  790\\\\\n",
       "\t 0.075 &  357\\\\\n",
       "\t 0.100 &  204\\\\\n",
       "\t 0.125 &  132\\\\\n",
       "\\end{tabular}\n"
      ],
      "text/markdown": [
       "\n",
       "A tibble: 5 × 2\n",
       "\n",
       "| V1 &lt;dbl&gt; | V2 &lt;dbl&gt; |\n",
       "|---|---|\n",
       "| 0.025 | 3098 |\n",
       "| 0.050 |  790 |\n",
       "| 0.075 |  357 |\n",
       "| 0.100 |  204 |\n",
       "| 0.125 |  132 |\n",
       "\n"
      ],
      "text/plain": [
       "  V1    V2  \n",
       "1 0.025 3098\n",
       "2 0.050  790\n",
       "3 0.075  357\n",
       "4 0.100  204\n",
       "5 0.125  132"
      ]
     },
     "metadata": {},
     "output_type": "display_data"
    }
   ],
   "source": [
    "# batch sample size inference\n",
    "mde_to_sample_size = function(mde, base = 0.65) {\n",
    "    power_prop = power.prop.test(\n",
    "        p1 = base, \n",
    "        p2 = base + mde, \n",
    "        power = .8, \n",
    "        sig.level = .1,\n",
    "        alternative = \"one.sided\"\n",
    "    )\n",
    "    floor(power_prop$n)\n",
    "}\n",
    "\n",
    "# display\n",
    "rbind(\n",
    "    (1:5)*.025, \n",
    "    map_dbl((1:5)*.025, mde_to_sample_size, base = 0.3)\n",
    ") %>% t() %>% as_tibble()"
   ]
  },
  {
   "cell_type": "code",
   "execution_count": 3,
   "metadata": {
    "cell_id": 11
   },
   "outputs": [
    {
     "data": {
      "text/plain": [
       "\n",
       "     Two-sample comparison of proportions power calculation \n",
       "\n",
       "              n = 844.3304\n",
       "             p1 = 0.6\n",
       "             p2 = 0.65\n",
       "      sig.level = 0.1\n",
       "          power = 0.8\n",
       "    alternative = one.sided\n",
       "\n",
       "NOTE: n is number in *each* group\n"
      ]
     },
     "metadata": {},
     "output_type": "display_data"
    }
   ],
   "source": [
    "# for prop.test\n",
    "power.prop.test(\n",
    "    p1 = 0.6, \n",
    "    p2 = 0.65, \n",
    "    power = .8, \n",
    "    sig.level = .1,\n",
    "    alternative = 'one'\n",
    ")"
   ]
  },
  {
   "cell_type": "markdown",
   "metadata": {},
   "source": [
    "t-test params\n",
    "\n",
    "$\\delta = \\mu_1 - \\mu_2$\n",
    "\n",
    "$sd = \\sqrt{\\frac{1/m + 1/n}{m+n-2} (S_X^2 + S_Y^2) }$"
   ]
  },
  {
   "cell_type": "code",
   "execution_count": 6,
   "metadata": {
    "cell_id": 12
   },
   "outputs": [
    {
     "data": {
      "text/plain": [
       "\n",
       "     Two-sample t test power calculation \n",
       "\n",
       "              n = 309.8065\n",
       "          delta = 0.2\n",
       "             sd = 1\n",
       "      sig.level = 0.1\n",
       "          power = 0.8\n",
       "    alternative = two.sided\n",
       "\n",
       "NOTE: n is number in *each* group\n"
      ]
     },
     "metadata": {},
     "output_type": "display_data"
    }
   ],
   "source": [
    "# for t.test\n",
    "power.t.test(\n",
    "    delta = .2,\n",
    "    sd = 1,\n",
    "    power = .8,\n",
    "    sig.level = .1\n",
    ")"
   ]
  },
  {
   "cell_type": "markdown",
   "metadata": {
    "cell_id": 1
   },
   "source": [
    "## Conf. Interval for Conversite Rates\n",
    "\n",
    "$x_i \\sim \\text{Bernoulli}(p)$\n",
    "\n",
    "$\\text{sd}(\\bar{x}) = \\sqrt{\\text{var}(x_i)/n}$"
   ]
  },
  {
   "cell_type": "code",
   "execution_count": 7,
   "metadata": {
    "cell_id": 2
   },
   "outputs": [],
   "source": [
    "ci_width_95_for_conversion = function(p = 0.02, sample_sizes = (1:10) * 500) {\n",
    "    # display\n",
    "    cat('confidence interval for mean = ', p, \" under different sample sizes.\\n\", sep = \"\")\n",
    "    cat(rep('-', 20))  \n",
    "    # sd of mean\n",
    "    sd_x_mean = sqrt(p * (1 - p) / sample_sizes)\n",
    "    # ci width of mean\n",
    "    ci_width_95 = sd_x_mean * 1.96\n",
    "    # display\n",
    "    rbind(sample_sizes, ci_width_95) %>% t() %>% as_tibble() %>% mutate(\n",
    "        # ci_width_95 = scales::label_percent(accuracy = .01)(ci_width_95)\n",
    "        ci_width_95 = round(ci_width_95, digits = 4)\n",
    "    )\n",
    "}"
   ]
  },
  {
   "cell_type": "code",
   "execution_count": 8,
   "metadata": {},
   "outputs": [
    {
     "name": "stdout",
     "output_type": "stream",
     "text": [
      "confidence interval for mean = 0.85 under different sample sizes.\n",
      "- - - - - - - - - - - - - - - - - - - -"
     ]
    },
    {
     "data": {
      "text/html": [
       "<table class=\"dataframe\">\n",
       "<caption>A tibble: 10 × 2</caption>\n",
       "<thead>\n",
       "\t<tr><th scope=col>sample_sizes</th><th scope=col>ci_width_95</th></tr>\n",
       "\t<tr><th scope=col>&lt;dbl&gt;</th><th scope=col>&lt;dbl&gt;</th></tr>\n",
       "</thead>\n",
       "<tbody>\n",
       "\t<tr><td> 100</td><td>0.0700</td></tr>\n",
       "\t<tr><td> 200</td><td>0.0495</td></tr>\n",
       "\t<tr><td> 300</td><td>0.0404</td></tr>\n",
       "\t<tr><td> 400</td><td>0.0350</td></tr>\n",
       "\t<tr><td> 500</td><td>0.0313</td></tr>\n",
       "\t<tr><td> 600</td><td>0.0286</td></tr>\n",
       "\t<tr><td> 700</td><td>0.0265</td></tr>\n",
       "\t<tr><td> 800</td><td>0.0247</td></tr>\n",
       "\t<tr><td> 900</td><td>0.0233</td></tr>\n",
       "\t<tr><td>1000</td><td>0.0221</td></tr>\n",
       "</tbody>\n",
       "</table>\n"
      ],
      "text/latex": [
       "A tibble: 10 × 2\n",
       "\\begin{tabular}{ll}\n",
       " sample\\_sizes & ci\\_width\\_95\\\\\n",
       " <dbl> & <dbl>\\\\\n",
       "\\hline\n",
       "\t  100 & 0.0700\\\\\n",
       "\t  200 & 0.0495\\\\\n",
       "\t  300 & 0.0404\\\\\n",
       "\t  400 & 0.0350\\\\\n",
       "\t  500 & 0.0313\\\\\n",
       "\t  600 & 0.0286\\\\\n",
       "\t  700 & 0.0265\\\\\n",
       "\t  800 & 0.0247\\\\\n",
       "\t  900 & 0.0233\\\\\n",
       "\t 1000 & 0.0221\\\\\n",
       "\\end{tabular}\n"
      ],
      "text/markdown": [
       "\n",
       "A tibble: 10 × 2\n",
       "\n",
       "| sample_sizes &lt;dbl&gt; | ci_width_95 &lt;dbl&gt; |\n",
       "|---|---|\n",
       "|  100 | 0.0700 |\n",
       "|  200 | 0.0495 |\n",
       "|  300 | 0.0404 |\n",
       "|  400 | 0.0350 |\n",
       "|  500 | 0.0313 |\n",
       "|  600 | 0.0286 |\n",
       "|  700 | 0.0265 |\n",
       "|  800 | 0.0247 |\n",
       "|  900 | 0.0233 |\n",
       "| 1000 | 0.0221 |\n",
       "\n"
      ],
      "text/plain": [
       "   sample_sizes ci_width_95\n",
       "1   100         0.0700     \n",
       "2   200         0.0495     \n",
       "3   300         0.0404     \n",
       "4   400         0.0350     \n",
       "5   500         0.0313     \n",
       "6   600         0.0286     \n",
       "7   700         0.0265     \n",
       "8   800         0.0247     \n",
       "9   900         0.0233     \n",
       "10 1000         0.0221     "
      ]
     },
     "metadata": {},
     "output_type": "display_data"
    }
   ],
   "source": [
    "ci_width_95_for_conversion(p = 0.85, sample_sizes = (1:10)*100)"
   ]
  },
  {
   "cell_type": "markdown",
   "metadata": {
    "cell_id": 3
   },
   "source": [
    "## Sample Size for ASP via Monte Carlo"
   ]
  },
  {
   "cell_type": "code",
   "execution_count": 9,
   "metadata": {
    "cell_id": 4
   },
   "outputs": [],
   "source": [
    "# --------------- SEP ---------------\n",
    "price_power_analysis <- \n",
    "    function(prices, conversion_rates, mean_lift, sig_level = .1, power = .8) {\n",
    "    # monte carlo settings\n",
    "    SAMPLE_SIZE = 100000\n",
    "    price_vector = c(0, prices)\n",
    "    conversion_vector = c(1 - sum(conversion_rates), conversion_rates)\n",
    "    # simulate sales for a population\n",
    "    sales_vector = sample(price_vector, SAMPLE_SIZE, replace=TRUE, prob=conversion_vector)\n",
    "\n",
    "    # assumed mean and standard deviation\n",
    "    sample_mean = mean(sales_vector)\n",
    "    sample_sd = sd(sales_vector)\n",
    "    cat(\"ASP mean:\", sample_mean, '\\n')\n",
    "    cat(\"ASP std:\", sample_sd, '\\n')\n",
    "    cat(rep('-', 20), '\\n')\n",
    "    \n",
    "    # sample size\n",
    "    power.t.test(\n",
    "        delta = mean_lift,\n",
    "        sd = sample_sd,\n",
    "        sig.level = sig_level, \n",
    "        power = power, \n",
    "        alternative = \"one.sided\"\n",
    "    )\n",
    "}"
   ]
  },
  {
   "cell_type": "code",
   "execution_count": 10,
   "metadata": {
    "cell_id": 5
   },
   "outputs": [
    {
     "name": "stdout",
     "output_type": "stream",
     "text": [
      "ASP mean: 118.903 \n",
      "ASP std: 363.4044 \n",
      "- - - - - - - - - - - - - - - - - - - - \n"
     ]
    },
    {
     "data": {
      "text/plain": [
       "\n",
       "     Two-sample t test power calculation \n",
       "\n",
       "              n = 5292.151\n",
       "          delta = 15\n",
       "             sd = 363.4044\n",
       "      sig.level = 0.1\n",
       "          power = 0.8\n",
       "    alternative = one.sided\n",
       "\n",
       "NOTE: n is number in *each* group\n"
      ]
     },
     "metadata": {},
     "output_type": "display_data"
    }
   ],
   "source": [
    "price_power_analysis(c(2499, 800), c(0.013, 0.11), mean_lift = 15)"
   ]
  },
  {
   "cell_type": "markdown",
   "metadata": {},
   "source": [
    "## ANOVA"
   ]
  },
  {
   "cell_type": "code",
   "execution_count": 11,
   "metadata": {},
   "outputs": [],
   "source": [
    "# generate data\n",
    "df_conv = as_tibble(rbind(\n",
    "    cbind(rep('a/00', 2238), c(rep(1, 15), rep(0, 2238 - 15))),\n",
    "    cbind(rep('b/31', 2415), c(rep(1, 3), rep(0, 2415 - 3))),\n",
    "    cbind(rep('c/91', 2295), c(rep(1, 1), rep(0, 2295 - 1))),\n",
    "    cbind(rep('d/181', 6602), c(rep(1, 6), rep(0, 6602 - 6)))\n",
    "))\n",
    "names(df_conv) = c('group', 'res')"
   ]
  },
  {
   "cell_type": "code",
   "execution_count": 12,
   "metadata": {},
   "outputs": [
    {
     "data": {
      "text/plain": [
       "               Df Sum Sq  Mean Sq F value   Pr(>F)    \n",
       "group           3  0.064 0.021342   11.62 1.34e-07 ***\n",
       "Residuals   13546 24.890 0.001837                     \n",
       "---\n",
       "Signif. codes:  0 ‘***’ 0.001 ‘**’ 0.01 ‘*’ 0.05 ‘.’ 0.1 ‘ ’ 1"
      ]
     },
     "metadata": {},
     "output_type": "display_data"
    }
   ],
   "source": [
    "anova_conv = aov(res ~ group, df_conv)\n",
    "summary(anova_conv)"
   ]
  },
  {
   "cell_type": "code",
   "execution_count": 13,
   "metadata": {},
   "outputs": [
    {
     "data": {
      "image/png": "[encoded data removed]",
      "text/plain": [
       "Plot with title “95% family-wise confidence level\n",
       "”"
      ]
     },
     "metadata": {
      "image/png": {
       "height": 420,
       "width": 420
      }
     },
     "output_type": "display_data"
    }
   ],
   "source": [
    "plot(TukeyHSD(anova_conv))"
   ]
  },
  {
   "cell_type": "markdown",
   "metadata": {},
   "source": [
    "## Target Lower Bound for Conversion Rates\n",
    "\n",
    "Ref: https://rdrr.io/cran/Ryacas/f/vignettes/getting-started.Rmd\n",
    "\n",
    "Suppose our target conversion rate is at least 0.05, and we want a test to determine whether a specific media channel could meet the requirement.\n",
    "\n",
    "Since the test is done on limited a sample size, we should aim at a higher conversion rate, which is calculated in the formula below.\n",
    "\n",
    "$lb = p - \\sqrt{\\frac{p (1 - p)}{n}} \\times \\Phi^{-1} (1 - q)$\n",
    "\n",
    "where p is the target conversion rate, and q is the probability that true conversion is less then lb.\n",
    "\n",
    "I've done a Python version like this,\n",
    "\n",
    "```python\n",
    "import sympy\n",
    "from scipy.stats import norm\n",
    "\n",
    "\n",
    "def exp_conversion_fn(lb=.05, q=.2):\n",
    "    \"\"\" returns a function which accepts sample size \n",
    "    and returns experiment conversion rate target\n",
    "    \n",
    "    lb -- lower bound of conversion rate\n",
    "    q -- quantile of the lower bound\n",
    "    \"\"\"\n",
    "    p = sympy.symbols(\"p\", positive=True)\n",
    "    n = sympy.symbols(\"n\", positive=True, integer=True)\n",
    "    eq = p - sympy.sqrt(p * (1 - p) / n) * norm.ppf(1 - q) - lb\n",
    "    # simplify result formulas with factor\n",
    "    fn = sympy.factor(sympy.solve(eq, p))\n",
    "    return sympy.lambdify(n, fn[1])\n",
    "    \n",
    "fn = exp_conversion_fn()\n",
    "\n",
    "for n in range(100, 550, 50):\n",
    "    p = fn(n)\n",
    "    print(f\"target conversion for sample size {n}:{p: .4f}\")\n",
    "```"
   ]
  },
  {
   "cell_type": "code",
   "execution_count": 17,
   "metadata": {},
   "outputs": [],
   "source": [
    "require(Ryacas)"
   ]
  },
  {
   "cell_type": "code",
   "execution_count": 15,
   "metadata": {
    "tags": []
   },
   "outputs": [],
   "source": [
    "# get p given other variables\n",
    "conversion_test_target = function(lb = .05, q = .2, n = 100) {\n",
    "    p = ysym(\"p\")\n",
    "    # remove sqrt before solving\n",
    "    eq = p^2 - 2 * lb * p + lb^2 - qnorm(p = 1 - q)^2 * p * (1 - p) / n\n",
    "    solve(eq, c(\"p\"))[1, ] %>% y_rmvars() %>% as_r()\n",
    "}"
   ]
  },
  {
   "cell_type": "code",
   "execution_count": 20,
   "metadata": {},
   "outputs": [
    {
     "name": "stdout",
     "output_type": "stream",
     "text": [
      "target conversion for sample size 100 : 0.07171515 \n",
      "target conversion for sample size 200 : 0.06463249 \n",
      "target conversion for sample size 300 : 0.06169065 \n",
      "target conversion for sample size 400 : 0.05999317 \n",
      "target conversion for sample size 500 : 0.05885858 \n"
     ]
    }
   ],
   "source": [
    "# p for various n\n",
    "for (n in (1:5) * 100) {\n",
    "    cat('target conversion for sample size', n, ':', \n",
    "        conversion_test_target(n = n), '\\n')\n",
    "}"
   ]
  },
  {
   "cell_type": "code",
   "execution_count": null,
   "metadata": {},
   "outputs": [],
   "source": []
  }
 ],
 "metadata": {
  "kernelspec": {
   "display_name": "R",
   "language": "R",
   "name": "ir"
  },
  "language_info": {
   "codemirror_mode": "r",
   "file_extension": ".r",
   "mimetype": "text/x-r-source",
   "name": "R",
   "pygments_lexer": "r",
   "version": "4.1.2"
  },
  "max_cell_id": 13,
  "toc-autonumbering": true,
  "toc-showtags": true
 },
 "nbformat": 4,
 "nbformat_minor": 4
}
