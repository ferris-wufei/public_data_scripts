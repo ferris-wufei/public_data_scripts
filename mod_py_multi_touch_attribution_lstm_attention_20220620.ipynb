{
 "cells": [
  {
   "cell_type": "code",
   "execution_count": 1,
   "id": "8d819633",
   "metadata": {},
   "outputs": [],
   "source": [
    "import numpy as np\n",
    "import pandas as pd\n",
    "import itertools\n",
    "import pprint\n",
    "from math import factorial\n",
    "from IPython.display import display"
   ]
  },
  {
   "cell_type": "markdown",
   "id": "c3ee3bdd-ca14-426f-8302-f1533902394a",
   "metadata": {},
   "source": [
    "## MTA based on ordered channel sequences"
   ]
  },
  {
   "cell_type": "code",
   "execution_count": 2,
   "id": "8e739929-d354-4bbc-942a-272e43c41891",
   "metadata": {},
   "outputs": [],
   "source": [
    "import random\n",
    "import torch\n",
    "import torch.nn as nn\n",
    "import torch.nn.functional as F\n",
    "from torch import tensor\n",
    "from torch.utils.data import TensorDataset, DataLoader\n",
    "from torch.utils.tensorboard import SummaryWriter\n",
    "from datetime import datetime\n",
    "from sklearn.utils import resample\n",
    "from sklearn.preprocessing import MinMaxScaler\n",
    "from sklearn.model_selection import train_test_split"
   ]
  },
  {
   "cell_type": "code",
   "execution_count": 3,
   "id": "d0e6693a-5bbc-4044-8244-3a31c08ae986",
   "metadata": {},
   "outputs": [],
   "source": [
    "# use GPU to speed up if available\n",
    "is_cuda = torch.cuda.is_available()\n",
    "device = torch.device(\"cuda\") if is_cuda else torch.device(\"cpu\")"
   ]
  },
  {
   "cell_type": "markdown",
   "id": "00c314b1-ec7c-47c6-a590-d71fa73c2b5d",
   "metadata": {
    "tags": []
   },
   "source": [
    "### Data: Criteo Attribution Modeling\n",
    "\n",
    "download url: https://ailab.criteo.com/criteo-attribution-modeling-bidding-dataset/"
   ]
  },
  {
   "cell_type": "code",
   "execution_count": 4,
   "id": "7ba72270-b296-4ac3-a00e-5750b1bf50c6",
   "metadata": {},
   "outputs": [],
   "source": [
    "df0 = pd.read_csv('input/criteo_attribution_dataset.tsv.gz', sep='\\t', compression='gzip')"
   ]
  },
  {
   "cell_type": "markdown",
   "id": "89c8f5b6",
   "metadata": {},
   "source": [
    "### Batch LSTM & LSTM-A\n",
    "\n",
    "\n",
    "Modeling ref: https://github.com/ikatsov/tensor-house/blob/master/promotions/channel-attribution-lstm.ipynb\n",
    "\n",
    "Pytorch example: https://pytorch.org/tutorials/beginner/introyt/trainingyt.html \n",
    "\n",
    "#### Prepare Data"
   ]
  },
  {
   "cell_type": "code",
   "execution_count": 5,
   "id": "c3a3d7d6-a741-43db-87be-472fe136d273",
   "metadata": {
    "tags": []
   },
   "outputs": [],
   "source": [
    "np.random.seed(996)\n",
    "\n",
    "# data preparation\n",
    "# ref https://github.com/ikatsov/tensor-house/blob/master/promotions/channel-attribution-lstm.ipynb\n",
    "def add_derived_columns(df):\n",
    "    \"\"\"add journey_id, normalize some columns\"\"\"\n",
    "    df_ext = df.copy()\n",
    "    df_ext['jid'] = df_ext['uid'].map(str) + '_' + df_ext['conversion_id'].map(str)\n",
    "    min_max_scaler = MinMaxScaler()\n",
    "    \n",
    "    for cname in ('timestamp', 'time_since_last_click'):\n",
    "        x = df_ext[cname].values.reshape(-1, 1) \n",
    "        df_ext[cname + '_norm'] = min_max_scaler.fit_transform(x)\n",
    "    \n",
    "    return df_ext\n",
    "\n",
    "\n",
    "def filter_journeys_by_length(df, min_touchpoints):\n",
    "    \"\"\"filter journeys with some touchpoints or above\"\"\"\n",
    "    if min_touchpoints <= 1:\n",
    "        return df\n",
    "    else:\n",
    "        grouped = df.groupby(['jid'])['uid'].count().reset_index(name=\"count\")\n",
    "        return df[df['jid'].isin( grouped[grouped['count'] >= min_touchpoints]['jid'].values )]\n",
    "\n",
    "    \n",
    "def sample_campaigns(df, n_campaigns):\n",
    "    \"\"\"sample campaigns\"\"\"\n",
    "    campaigns = np.random.choice( df['campaign'].unique(), n_campaigns, replace = False )\n",
    "    return df[ df['campaign'].isin(campaigns) ]\n",
    "\n",
    "\n",
    "def balance_conversions(df, n_samples=40_000):\n",
    "    \"\"\"balance journey count on conversion 1/0 groups\"\"\"\n",
    "    jid_converted = df[df.conversion==1]['jid'].unique()\n",
    "    jid_unconverted = df[df.conversion==0]['jid'].unique()\n",
    "    jid_sampled = np.concatenate((np.random.choice(jid_converted, n_samples, replace=False),\n",
    "        np.random.choice(jid_unconverted, n_samples, replace=False)), axis=None)\n",
    "    return df[lambda x: x['jid'].isin(jid_sampled)]\n",
    "\n",
    "\n",
    "def map_one_hot(df, column_names, result_column_name):\n",
    "    \"\"\"map some columns into dummy var list of single columns\"\"\"\n",
    "    mapper = {} \n",
    "    \n",
    "    for i, col_name in enumerate(column_names):\n",
    "        for val in df[col_name].unique():\n",
    "            mapper[str(val) + str(i)] = len(mapper)\n",
    "         \n",
    "    df_ext = df.copy()\n",
    "    \n",
    "    def one_hot(values):\n",
    "        v = np.zeros( len(mapper) )\n",
    "        for i, val in enumerate(values): \n",
    "            v[ mapper[str(val) + str(i)] ] = 1\n",
    "        return v    \n",
    "    \n",
    "    df_ext[result_column_name] = df_ext[column_names].values.tolist()\n",
    "    df_ext[result_column_name] = df_ext[result_column_name].map(one_hot)\n",
    "    return df_ext\n",
    "\n",
    "\n",
    "n_campaigns = 400\n",
    "df1 = add_derived_columns(df0)\n",
    "df2 = sample_campaigns(df1, n_campaigns)\n",
    "df3 = filter_journeys_by_length(df2, 2)\n",
    "df4 = balance_conversions(df3).sort_values(by=['timestamp_norm'])\n",
    "df5 = map_one_hot(df4, ['cat1', 'cat2', 'cat3', 'cat4', 'cat5', 'cat6', 'cat8'], 'cats')\n",
    "df6 = map_one_hot(df5, ['campaign'], 'campaigns').sort_values(by=['timestamp_norm'])"
   ]
  },
  {
   "cell_type": "code",
   "execution_count": 6,
   "id": "7e398cf4-f111-41f2-91a6-ca21a4a5d371",
   "metadata": {},
   "outputs": [],
   "source": [
    "# free ram\n",
    "del df1, df2, df3, df4, df5"
   ]
  },
  {
   "cell_type": "markdown",
   "id": "4f9dbffc-fa4f-4ea2-b2dd-f138346b65e8",
   "metadata": {},
   "source": [
    "#### Create features for all touch points"
   ]
  },
  {
   "cell_type": "code",
   "execution_count": 31,
   "id": "cd2c9735-38b6-4ba8-9a99-6e833648acdb",
   "metadata": {},
   "outputs": [],
   "source": [
    "# I used as less features as possible to learn from touch points only\n",
    "def features_for_lstm(df, max_touchpoints):\n",
    "    df_proj = df[[\n",
    "        'jid', \n",
    "        'campaigns', \n",
    "        # 'cats', \n",
    "        'click', \n",
    "        # 'cost', \n",
    "        'time_since_last_click_norm', \n",
    "        # 'timestamp_norm', \n",
    "        'conversion'\n",
    "    ]]    \n",
    "    x, y = [], []\n",
    "    \n",
    "    for j, d in df_proj.groupby(['jid']):\n",
    "        # concatenate features for each impression\n",
    "        journey_matrix = np.apply_along_axis(np.hstack, 1, d.values[:, 1:-1])\n",
    "        # sort impressions by timestamp\n",
    "        journey_matrix = journey_matrix[journey_matrix[:, 5].argsort()]\n",
    "        n_touchpoints = len(journey_matrix)\n",
    "        padded_journey = []\n",
    "        \n",
    "        # pad 0s to max_touchpoints for each journey\n",
    "        if (n_touchpoints >= max_touchpoints):\n",
    "            padded_journey = journey_matrix[0:max_touchpoints]\n",
    "        else:\n",
    "            padded_journey = np.pad(\n",
    "                journey_matrix, \n",
    "                ((0, max_touchpoints-n_touchpoints), (0, 0)), \n",
    "                'constant', \n",
    "                constant_values=(0)\n",
    "            )\n",
    "            \n",
    "        x.append(padded_journey)\n",
    "        y.append(np.max(d.values[:, -1]))\n",
    "        \n",
    "    return np.stack(x), np.array(y)\n",
    "\n",
    "\n",
    "x, y = features_for_lstm(df6, max_touchpoints = 15)"
   ]
  },
  {
   "cell_type": "code",
   "execution_count": 32,
   "id": "b7e7adbb-99c0-43e2-a930-631dda822e97",
   "metadata": {},
   "outputs": [
    {
     "data": {
      "text/plain": [
       "(80000, 15, 402)"
      ]
     },
     "execution_count": 32,
     "metadata": {},
     "output_type": "execute_result"
    }
   ],
   "source": [
    "x.shape"
   ]
  },
  {
   "cell_type": "code",
   "execution_count": 33,
   "id": "23045fc8-4c25-4f02-ad47-e4db3f91bcd7",
   "metadata": {},
   "outputs": [],
   "source": [
    "# train test split\n",
    "train_x, val_x, train_y, val_y = \\\n",
    "    train_test_split(x, y, test_size = 0.20, random_state = 1)\n",
    "\n",
    "# create Dataloader\n",
    "# https://discuss.pytorch.org/t/runtimeerror-expected-object-of-scalar-type-double-but-got-scalar-type-float-for-argument-2-weight/38961/14\n",
    "batch_size = 128\n",
    "train_data = TensorDataset(torch.from_numpy(train_x).float(), torch.from_numpy(train_y).float())\n",
    "train_loader = DataLoader(train_data, shuffle=True, batch_size=batch_size, drop_last=True)\n",
    "val_data = TensorDataset(torch.from_numpy(val_x).float(), torch.from_numpy(val_y).float())\n",
    "val_loader = DataLoader(val_data, shuffle=True, batch_size=batch_size, drop_last=True)"
   ]
  },
  {
   "cell_type": "markdown",
   "id": "35ff3e12-4f22-42b3-ae36-977ef21fd552",
   "metadata": {},
   "source": [
    "#### Dev step-by-step"
   ]
  },
  {
   "cell_type": "code",
   "execution_count": 10,
   "id": "98d91009",
   "metadata": {
    "scrolled": true
   },
   "outputs": [],
   "source": [
    "# x0, y0 = next(iter(train_loader))\n",
    "# print(f\"x0 shape: {x0.shape}\")\n",
    "# print(f\"y0 shape: {y0.shape}\")"
   ]
  },
  {
   "cell_type": "code",
   "execution_count": 11,
   "id": "36542311",
   "metadata": {
    "scrolled": true
   },
   "outputs": [],
   "source": [
    "# # dev process for basic lstm using last hidden state\n",
    "# hidden_size = 64\n",
    "# embed_size = 128\n",
    "# num_layers = 2\n",
    "\n",
    "# #embed\n",
    "# embed_1 = nn.Linear(x0.shape[2], embed_size)\n",
    "# x1 = embed_1(x0) # [batch_size, seq_length, embed_size]\n",
    "# # lstm\n",
    "# lstm = nn.LSTM(embed_size, hidden_size, num_layers, dropout=.2, batch_first=True)\n",
    "# # lstm out: [batch_size, seq_length, hidden_size] \n",
    "# # hx, cx: [num_layer, batch_size, hidden_size]\n",
    "# lstm_out, (hx, cx) = lstm(x1)\n",
    "# # linear\n",
    "# fc_1 = nn.Linear(hidden_size, 1)\n",
    "# x2 = fc_1(hx[-1]) # [batch_size, 1]\n",
    "# # sigmoid\n",
    "# sigmoid = nn.Sigmoid()\n",
    "# x3 = sigmoid(x2) # [batch_size, 1]\n",
    "# x4 = x3.flatten() # [batch_size]"
   ]
  },
  {
   "cell_type": "code",
   "execution_count": 12,
   "id": "dbca73ec-c1c7-4351-bd5c-be6614dc278a",
   "metadata": {
    "tags": []
   },
   "outputs": [],
   "source": [
    "# # dev process for lstm-a using all hidden state\n",
    "# # suppose output contains hidden states h_t of all t of last layer!\n",
    "# hidden_size = 64\n",
    "# embed_size = 128\n",
    "# num_layers = 2\n",
    "\n",
    "# # --- attention in CS224n seq2seq model\n",
    "# # # embed\n",
    "# # embed_1 = nn.Linear(x0.shape[2], embed_size)\n",
    "# # x1 = embed_1(x0) # [batch_size, seq_length, embed_size]\n",
    "# # # lstm\n",
    "# # lstm = nn.LSTM(embed_size, hidden_size, num_layers, dropout=.2, batch_first=True)\n",
    "# # # lstm out: [batch_size, seq_length, hidden_size] \n",
    "# # # hx, cx: [num_layer, batch_size, hidden_size]\n",
    "# # lstm_out, (hx, cx) = lstm(x1) \n",
    "# # # last hidden of last layer\n",
    "# # h = hx[-1].unsqueeze(2) # [batch_size, seq_length, 1]\n",
    "# # # attention weights\n",
    "# # attn_weights = torch.bmm(lstm_out, h) # [batch_size, seq_length, 1]\n",
    "# # attn = F.softmax(attn_weights.squeeze(), 1) # [batch_size, seq_length]\n",
    "# # # weighted hidden states\n",
    "# # attn_out = torch.bmm(attn.unsqueeze(1), lstm_out).squeeze(1) # [batch_size, hidden_size]\n",
    "# # # transpose and predict\n",
    "# # fc_1 = nn.Linear(hidden_size, 1) \n",
    "# # out = fc_1(attn_out) # [batch_size, 1]\n",
    "# # sigmoid = nn.Sigmoid()\n",
    "# # output = sigmoid(out).squeeze() # [batch_size]\n",
    "\n",
    "# # --- attention in paper\n",
    "# # embed\n",
    "# x1 = embed_1(x0) # [batch_size, seq_length, embed_size]\n",
    "# # lstm\n",
    "# lstm = nn.LSTM(embed_size, hidden_size, num_layers, dropout=.2, batch_first=True)\n",
    "# # lstm out: [batch_size, seq_length, hidden_size] \n",
    "# # hx, cx: [num_layer, batch_size, hidden_size]\n",
    "# lstm_out, (hx, cx) = lstm(x1)\n",
    "# # linear\n",
    "# fc_1 = nn.Linear(hidden_size, 1) \n",
    "# attn_weights = fc_1(lstm_out) # [batch_size, seq_length, 1]\n",
    "# # tan\n",
    "# attn_weights = nn.Tanh()(attn_weights) # [batch_size, seq_length, 1]\n",
    "# # softmax\n",
    "# attn = nn.Softmax(1)(attn_weights.squeeze()) # [batch_size, seq_length]\n",
    "# # weighted hidden states\n",
    "# attn_out = torch.bmm(attn.unsqueeze(1), lstm_out).squeeze(1) # [batch_size, hidden_size]\n",
    "# fc_2 = nn.Linear(hidden_size, 1) \n",
    "# out = fc_2(attn_out) # [batch_size, 1]\n",
    "# output = nn.Sigmoid()(out).squeeze() # [batch_size]"
   ]
  },
  {
   "cell_type": "markdown",
   "id": "a59aa3ca-d9ef-4aa7-9f9b-eac849c74c94",
   "metadata": {},
   "source": [
    "#### Models: LSTM & LSTM-A"
   ]
  },
  {
   "cell_type": "code",
   "execution_count": 17,
   "id": "134d1099",
   "metadata": {},
   "outputs": [],
   "source": [
    "class MTABatch0(nn.Module):\n",
    "    def __init__(self, batch_size, input_size, embed_size, hidden_size, num_layers=2):\n",
    "        super(MTABatch0, self).__init__()\n",
    "        self.batch_size = batch_size\n",
    "        self.hidden_size = hidden_size\n",
    "        self.num_layers = num_layers\n",
    "        self.embed_1 = nn.Linear(input_size, embed_size)\n",
    "        self.lstm = nn.LSTM(embed_size, hidden_size, num_layers, dropout=.2, batch_first=True)\n",
    "        self.fc_1 = nn.Linear(hidden_size, 1)\n",
    "        self.sigmoid = nn.Sigmoid()\n",
    "    \n",
    "    def forward(self, inputs, states):\n",
    "        x1 = self.embed_1(inputs) # [batch_size, seq_length, embed_size]\n",
    "        output, (hx, cx) = lstm(x1)\n",
    "        x2 = self.fc_1(hx) # [batch_size, 1]\n",
    "        x3 = self.sigmoid(x2[-1]) # [batch_size, 1]\n",
    "        x4 = x3.flatten() # [batch_size]\n",
    "        return x4\n",
    "\n",
    "    def init_states(self):\n",
    "        return (torch.zeros(self.num_layers, self.batch_size, self.hidden_size), \n",
    "                torch.zeros(self.num_layers, self.batch_size, self.hidden_size))"
   ]
  },
  {
   "cell_type": "code",
   "execution_count": 18,
   "id": "7e642e20",
   "metadata": {
    "tags": []
   },
   "outputs": [],
   "source": [
    "class MTABatch1(nn.Module):\n",
    "    def __init__(self, batch_size, input_size, embed_size, hidden_size, num_layers=2):\n",
    "        super(MTABatch1, self).__init__()\n",
    "        self.batch_size = batch_size\n",
    "        self.hidden_size = hidden_size\n",
    "        self.num_layers = num_layers\n",
    "        self.embed_1 = nn.Linear(input_size, embed_size)\n",
    "        self.lstm = nn.LSTM(embed_size, hidden_size, num_layers, dropout=.2, batch_first=True)\n",
    "        self.fc_1 = nn.Linear(hidden_size, 1)\n",
    "        self.fc_2 = nn.Linear(hidden_size, 1)\n",
    "        self.sigmoid = nn.Sigmoid()\n",
    "    \n",
    "    def forward(self, inputs, states):\n",
    "        # embed\n",
    "        x1 = self.embed_1(inputs) # [batch_size, seq_length, embed_size]\n",
    "        # lstm\n",
    "        # lstm out: [batch_size, seq_length, hidden_size] \n",
    "        # hx, cx: [num_layer, batch_size, hidden_size]\n",
    "        lstm_out, (hx, cx) = self.lstm(x1)\n",
    "        # linear\n",
    "        attn_weights = self.fc_1(lstm_out) # [batch_size, seq_length, 1]\n",
    "        # tan\n",
    "        attn_weights = nn.Tanh()(attn_weights) # [batch_size, seq_length, 1]\n",
    "        # softmax\n",
    "        attn = nn.Softmax(1)(attn_weights.squeeze(2)) # [batch_size, seq_length]\n",
    "        # weighted hidden states\n",
    "        attn_out = torch.bmm(attn.unsqueeze(1), lstm_out).squeeze(1) # [batch_size, hidden_size]\n",
    "        out = self.fc_2(attn_out) # [batch_size, 1]\n",
    "        output = self.sigmoid(out).squeeze(1) # [batch_size]\n",
    "        return output, attn\n",
    "\n",
    "    def init_states(self):\n",
    "        return (torch.zeros(self.num_layers, self.batch_size, self.hidden_size), \n",
    "                torch.zeros(self.num_layers, self.batch_size, self.hidden_size))"
   ]
  },
  {
   "cell_type": "markdown",
   "id": "b5140c0a-0615-4c00-b701-64d581d3672f",
   "metadata": {},
   "source": [
    "#### Train in Batch"
   ]
  },
  {
   "cell_type": "code",
   "execution_count": 34,
   "id": "015921d5",
   "metadata": {},
   "outputs": [],
   "source": [
    "# create model\n",
    "input_size = train_x.shape[-1]\n",
    "hidden_size = 64\n",
    "embed_size = 128\n",
    "\n",
    "model = MTABatch1(batch_size=batch_size, input_size=input_size, embed_size=embed_size, hidden_size=hidden_size)\n",
    "(h0, c0) = model.init_states()\n",
    "loss_fn = nn.BCELoss()\n",
    "# optimizer = torch.optim.SGD(model.parameters(), lr=0.01, momentum=0.9)\n",
    "optimizer = torch.optim.RMSprop(model.parameters(), lr=0.02)"
   ]
  },
  {
   "cell_type": "code",
   "execution_count": 35,
   "id": "539e9b38",
   "metadata": {
    "tags": []
   },
   "outputs": [],
   "source": [
    "def train_one_epoch(epoch_index):\n",
    "    running_loss, running_acc = 0., 0.\n",
    "    avg_loss, avg_acc = 0., 0.\n",
    "\n",
    "    for i, data in enumerate(train_loader):\n",
    "        inputs, labels = data\n",
    "        optimizer.zero_grad()\n",
    "        outputs, _ = model(inputs, (h0, c0))\n",
    "        loss = loss_fn(outputs, labels)\n",
    "        loss.backward()\n",
    "        optimizer.step()\n",
    "        # get accuracy\n",
    "        acc = ((outputs>0.5).to(torch.float)==labels).to(torch.float).mean()\n",
    "        running_acc += acc\n",
    "\n",
    "        # Gather data and report\n",
    "        running_loss += loss.item()\n",
    "        if i % 100 == 99:\n",
    "            avg_loss = running_loss / 100 # loss per batch\n",
    "            avg_acc = running_acc / (i + 1)\n",
    "            print(f'batch {i + 1} loss: {avg_loss:.4f}')\n",
    "            running_loss = 0.\n",
    "\n",
    "    return avg_loss, avg_acc"
   ]
  },
  {
   "cell_type": "code",
   "execution_count": 36,
   "id": "cbb33047",
   "metadata": {
    "scrolled": true,
    "tags": []
   },
   "outputs": [
    {
     "name": "stdout",
     "output_type": "stream",
     "text": [
      "EPOCH 1:\n",
      "batch 100 loss: 0.3448\n",
      "batch 200 loss: 0.1682\n",
      "batch 300 loss: 0.1603\n",
      "batch 400 loss: 0.1582\n",
      "batch 500 loss: 0.1544\n",
      "train loss 0.1544, train acc 0.9369 ... valid loss 0.1409, valid acc 0.9558\n",
      "EPOCH 2:\n",
      "batch 100 loss: 0.1477\n",
      "batch 200 loss: 0.1364\n",
      "batch 300 loss: 0.1440\n",
      "batch 400 loss: 0.1566\n",
      "batch 500 loss: 0.1482\n",
      "train loss 0.1482, train acc 0.9532 ... valid loss 0.1367, valid acc 0.9564\n"
     ]
    }
   ],
   "source": [
    "timestamp = datetime.now().strftime('%Y%m%d_%H%M%S')\n",
    "epoch_number = 0\n",
    "EPOCHS = 2\n",
    "best_vloss = 1_000_000.\n",
    "\n",
    "for epoch in range(EPOCHS):\n",
    "    print('EPOCH {}:'.format(epoch_number + 1))\n",
    "\n",
    "    # Make sure gradient tracking is on, and do a pass over the data\n",
    "    model.train(True)\n",
    "    avg_loss, avg_acc = train_one_epoch(epoch_number)\n",
    "\n",
    "    # We don't need gradients on to do reporting\n",
    "    model.train(False)\n",
    "\n",
    "    running_vloss = 0.0\n",
    "    running_vacc = 0.0\n",
    "    for i, vdata in enumerate(val_loader):\n",
    "        vinputs, vlabels = vdata\n",
    "        voutputs, _ = model(vinputs, (h0, c0))\n",
    "        vloss = loss_fn(voutputs, vlabels)\n",
    "        running_vloss += vloss\n",
    "        # get accuracy\n",
    "        acc = ((voutputs>0.5).to(torch.float)==vlabels).to(torch.float).mean()\n",
    "        running_vacc += acc\n",
    "\n",
    "    avg_vloss = running_vloss / (i + 1)\n",
    "    avg_vacc = running_vacc / (i + 1)\n",
    "    print(f'train loss {avg_loss:.4f}, train acc {avg_acc:.4f} ... valid loss {avg_vloss:.4f}, valid acc {avg_vacc:.4f}')\n",
    "\n",
    "    # Track best performance, and save the model's state\n",
    "    if avg_vloss < best_vloss:\n",
    "        best_vloss = avg_vloss\n",
    "        model_path = f'model_{timestamp}_{epoch_number}.model'\n",
    "        torch.save(model.state_dict(), model_path)\n",
    "\n",
    "    epoch_number += 1"
   ]
  },
  {
   "cell_type": "markdown",
   "id": "0c65a22a-850e-426d-923a-a067c0afc8c3",
   "metadata": {},
   "source": [
    "### Attribution with LTA and LSTM-A"
   ]
  },
  {
   "cell_type": "code",
   "execution_count": 37,
   "id": "e0bdbb84-330e-447d-8fc6-26132192fc19",
   "metadata": {},
   "outputs": [],
   "source": [
    "input_size = x.shape[-1]\n",
    "hidden_size = 64\n",
    "embed_size = 128\n",
    "batch_size_f = 1\n",
    "\n",
    "# loader for all data\n",
    "full_data = TensorDataset(torch.from_numpy(x).float(), torch.from_numpy(y).float())\n",
    "full_loader = DataLoader(full_data, shuffle=False, batch_size=batch_size_f)"
   ]
  },
  {
   "cell_type": "code",
   "execution_count": 38,
   "id": "83745528-d65a-4e63-97eb-b2b532cb1f28",
   "metadata": {},
   "outputs": [
    {
     "data": {
      "text/plain": [
       "MTABatch1(\n",
       "  (embed_1): Linear(in_features=402, out_features=128, bias=True)\n",
       "  (lstm): LSTM(128, 64, num_layers=2, batch_first=True, dropout=0.2)\n",
       "  (fc_1): Linear(in_features=64, out_features=1, bias=True)\n",
       "  (fc_2): Linear(in_features=64, out_features=1, bias=True)\n",
       "  (sigmoid): Sigmoid()\n",
       ")"
      ]
     },
     "execution_count": 38,
     "metadata": {},
     "output_type": "execute_result"
    }
   ],
   "source": [
    "# load trained model with batch_size = 1\n",
    "model_state_path = 'model_20220712_180708_1.model'\n",
    "\n",
    "model_f = MTABatch1(batch_size=batch_size_f, input_size=input_size, embed_size=embed_size, hidden_size=hidden_size)\n",
    "(h0, c0) = model_f.init_states()\n",
    "model_f.load_state_dict(torch.load(model_state_path))\n",
    "model_f.eval()"
   ]
  },
  {
   "cell_type": "code",
   "execution_count": 47,
   "id": "7fcfe42c-ffb8-460b-b457-1fb7ce193e7c",
   "metadata": {},
   "outputs": [],
   "source": [
    "# channel counts and contributions\n",
    "contrib_lstm_a = np.zeros(n_campaigns)\n",
    "contrib_lta = np.zeros(n_campaigns)\n",
    "campaign_freq = np.ones(n_campaigns)\n",
    "\n",
    "for i, data in enumerate(full_loader):\n",
    "    _x, _y = data\n",
    "    _, attn = model_f(_x, (h0, c0))\n",
    "    last_channel_id = None\n",
    "    \n",
    "    for step, var in enumerate(_x):\n",
    "        \n",
    "        \n",
    "        # lstm-a\n",
    "        if _x[step].sum() > 0:\n",
    "            channel_id = np.argmax(_x[step][0:n_campaigns]) # index of campaign\n",
    "            attn_value = attn[0, step] # normalized attention\n",
    "            campaign_freq[channel_id] += 1\n",
    "            last_channel_id = channel_id\n",
    "            if _y > 0:\n",
    "                contrib_lstm_a[channel_id] += attn_value\n",
    "        \n",
    "    # lta\n",
    "    if _y > 0:\n",
    "        contrib_lta[last_channel_id] += 1"
   ]
  },
  {
   "cell_type": "code",
   "execution_count": 53,
   "id": "5d812f06-e2e9-40db-8a6e-39045577c756",
   "metadata": {},
   "outputs": [],
   "source": [
    "# the padded steps have positive attention weights, so the sum of rest are smaller than conversions\n",
    "contrib_lstm_a_norm = sum(contrib_lta) / sum(contrib_lstm_a) * contrib_lstm_a"
   ]
  },
  {
   "cell_type": "code",
   "execution_count": 54,
   "id": "88b0b7b0-576a-42ba-a543-02204bce6e90",
   "metadata": {},
   "outputs": [],
   "source": [
    "# conversion rates under different attribution methods\n",
    "attr_lstm_a_norm = contrib_lstm_a_norm / campaign_freq\n",
    "attr_lstm_a = contrib_lstm_a / campaign_freq\n",
    "attr_lta = contrib_lta / campaign_freq"
   ]
  },
  {
   "cell_type": "code",
   "execution_count": 55,
   "id": "659596fa-be3e-4195-88d0-4a9a692c6197",
   "metadata": {},
   "outputs": [],
   "source": [
    "campaign_idx = range(200, 240)"
   ]
  },
  {
   "cell_type": "code",
   "execution_count": 56,
   "id": "75be286c-cb78-4c60-bc86-67e49c5887f1",
   "metadata": {},
   "outputs": [],
   "source": [
    "import plotly.express as px\n",
    "import plotly.graph_objects as go"
   ]
  },
  {
   "cell_type": "code",
   "execution_count": 57,
   "id": "8017f27e-9660-4be7-a56b-bb8530eb48b6",
   "metadata": {},
   "outputs": [
    {
     "data": {
      "application/vnd.plotly.v1+json": {
       "config": {
        "plotlyServerURL": "https://plot.ly"
       },
       "data": [
        {
         "name": "LTA",
         "type": "bar",
         "x": [
          0,
          1,
          2,
          3,
          4,
          5,
          6,
          7,
          8,
          9,
          10,
          11,
          12,
          13,
          14,
          15,
          16,
          17,
          18,
          19,
          20,
          21,
          22,
          23,
          24,
          25,
          26,
          27,
          28,
          29,
          30,
          31,
          32,
          33,
          34,
          35,
          36,
          37,
          38,
          39
         ],
         "y": [
          0.3333333333333333,
          0.06329113924050633,
          0.36,
          0.5151515151515151,
          0.3548387096774194,
          0.18604651162790697,
          0.09615384615384616,
          0.37790697674418605,
          0.2535211267605634,
          0.379746835443038,
          0.2857142857142857,
          0.0967741935483871,
          0.6818181818181818,
          0.2903225806451613,
          0.4375,
          0.18181818181818182,
          0.38461538461538464,
          0.39285714285714285,
          0.7553191489361702,
          0.2222222222222222,
          0.17391304347826086,
          0.14545454545454545,
          0.36363636363636365,
          0.2631578947368421,
          0.41818181818181815,
          0.1791044776119403,
          0.3617021276595745,
          0.4835164835164835,
          0.1713221601489758,
          0.38461538461538464,
          0.16129032258064516,
          0.8571428571428571,
          0.4867924528301887,
          0.44871794871794873,
          0.21370967741935484,
          0.16666666666666666,
          0.5833333333333334,
          0.3253012048192771,
          0.46511627906976744,
          0.8807947019867549
         ]
        },
        {
         "name": "LSTM-A",
         "type": "bar",
         "x": [
          0,
          1,
          2,
          3,
          4,
          5,
          6,
          7,
          8,
          9,
          10,
          11,
          12,
          13,
          14,
          15,
          16,
          17,
          18,
          19,
          20,
          21,
          22,
          23,
          24,
          25,
          26,
          27,
          28,
          29,
          30,
          31,
          32,
          33,
          34,
          35,
          36,
          37,
          38,
          39
         ],
         "y": [
          0.7738336781371923,
          0.12102842126165653,
          0.6996988117317524,
          0.8781399224604393,
          0.08498414970493781,
          0.43342974811517654,
          0.1769552726511514,
          0.8492078987508761,
          0.4610374665767018,
          0.6638568117628062,
          0.439801257444464,
          0.16853638284086972,
          0.18838888595621348,
          0.5145831724648426,
          0.7908734831364793,
          0.39804686204832945,
          0.8894280904399362,
          0.31025352500242537,
          0.16763086349096454,
          0.3831284252735921,
          0.4072734986771902,
          0.25231524891461954,
          0.835252683846205,
          0.5981967075833756,
          0.4959338246477075,
          0.39166423582238896,
          0.8247917894619118,
          0.5674005613086159,
          0.33119127292465,
          0.3507055157623141,
          0.34905329689008047,
          0.7972920769615891,
          0.34993922752458523,
          0.6844538192203584,
          0.42896707913355636,
          0.3036447328540559,
          0.16076877604615158,
          0.7696397227581996,
          0.37602148480202624,
          0.19524528699633856
         ]
        }
       ],
       "layout": {
        "autosize": true,
        "template": {
         "data": {
          "bar": [
           {
            "error_x": {
             "color": "#2a3f5f"
            },
            "error_y": {
             "color": "#2a3f5f"
            },
            "marker": {
             "line": {
              "color": "#E5ECF6",
              "width": 0.5
             },
             "pattern": {
              "fillmode": "overlay",
              "size": 10,
              "solidity": 0.2
             }
            },
            "type": "bar"
           }
          ],
          "barpolar": [
           {
            "marker": {
             "line": {
              "color": "#E5ECF6",
              "width": 0.5
             },
             "pattern": {
              "fillmode": "overlay",
              "size": 10,
              "solidity": 0.2
             }
            },
            "type": "barpolar"
           }
          ],
          "carpet": [
           {
            "aaxis": {
             "endlinecolor": "#2a3f5f",
             "gridcolor": "white",
             "linecolor": "white",
             "minorgridcolor": "white",
             "startlinecolor": "#2a3f5f"
            },
            "baxis": {
             "endlinecolor": "#2a3f5f",
             "gridcolor": "white",
             "linecolor": "white",
             "minorgridcolor": "white",
             "startlinecolor": "#2a3f5f"
            },
            "type": "carpet"
           }
          ],
          "choropleth": [
           {
            "colorbar": {
             "outlinewidth": 0,
             "ticks": ""
            },
            "type": "choropleth"
           }
          ],
          "contour": [
           {
            "colorbar": {
             "outlinewidth": 0,
             "ticks": ""
            },
            "colorscale": [
             [
              0,
              "#0d0887"
             ],
             [
              0.1111111111111111,
              "#46039f"
             ],
             [
              0.2222222222222222,
              "#7201a8"
             ],
             [
              0.3333333333333333,
              "#9c179e"
             ],
             [
              0.4444444444444444,
              "#bd3786"
             ],
             [
              0.5555555555555556,
              "#d8576b"
             ],
             [
              0.6666666666666666,
              "#ed7953"
             ],
             [
              0.7777777777777778,
              "#fb9f3a"
             ],
             [
              0.8888888888888888,
              "#fdca26"
             ],
             [
              1,
              "#f0f921"
             ]
            ],
            "type": "contour"
           }
          ],
          "contourcarpet": [
           {
            "colorbar": {
             "outlinewidth": 0,
             "ticks": ""
            },
            "type": "contourcarpet"
           }
          ],
          "heatmap": [
           {
            "colorbar": {
             "outlinewidth": 0,
             "ticks": ""
            },
            "colorscale": [
             [
              0,
              "#0d0887"
             ],
             [
              0.1111111111111111,
              "#46039f"
             ],
             [
              0.2222222222222222,
              "#7201a8"
             ],
             [
              0.3333333333333333,
              "#9c179e"
             ],
             [
              0.4444444444444444,
              "#bd3786"
             ],
             [
              0.5555555555555556,
              "#d8576b"
             ],
             [
              0.6666666666666666,
              "#ed7953"
             ],
             [
              0.7777777777777778,
              "#fb9f3a"
             ],
             [
              0.8888888888888888,
              "#fdca26"
             ],
             [
              1,
              "#f0f921"
             ]
            ],
            "type": "heatmap"
           }
          ],
          "heatmapgl": [
           {
            "colorbar": {
             "outlinewidth": 0,
             "ticks": ""
            },
            "colorscale": [
             [
              0,
              "#0d0887"
             ],
             [
              0.1111111111111111,
              "#46039f"
             ],
             [
              0.2222222222222222,
              "#7201a8"
             ],
             [
              0.3333333333333333,
              "#9c179e"
             ],
             [
              0.4444444444444444,
              "#bd3786"
             ],
             [
              0.5555555555555556,
              "#d8576b"
             ],
             [
              0.6666666666666666,
              "#ed7953"
             ],
             [
              0.7777777777777778,
              "#fb9f3a"
             ],
             [
              0.8888888888888888,
              "#fdca26"
             ],
             [
              1,
              "#f0f921"
             ]
            ],
            "type": "heatmapgl"
           }
          ],
          "histogram": [
           {
            "marker": {
             "pattern": {
              "fillmode": "overlay",
              "size": 10,
              "solidity": 0.2
             }
            },
            "type": "histogram"
           }
          ],
          "histogram2d": [
           {
            "colorbar": {
             "outlinewidth": 0,
             "ticks": ""
            },
            "colorscale": [
             [
              0,
              "#0d0887"
             ],
             [
              0.1111111111111111,
              "#46039f"
             ],
             [
              0.2222222222222222,
              "#7201a8"
             ],
             [
              0.3333333333333333,
              "#9c179e"
             ],
             [
              0.4444444444444444,
              "#bd3786"
             ],
             [
              0.5555555555555556,
              "#d8576b"
             ],
             [
              0.6666666666666666,
              "#ed7953"
             ],
             [
              0.7777777777777778,
              "#fb9f3a"
             ],
             [
              0.8888888888888888,
              "#fdca26"
             ],
             [
              1,
              "#f0f921"
             ]
            ],
            "type": "histogram2d"
           }
          ],
          "histogram2dcontour": [
           {
            "colorbar": {
             "outlinewidth": 0,
             "ticks": ""
            },
            "colorscale": [
             [
              0,
              "#0d0887"
             ],
             [
              0.1111111111111111,
              "#46039f"
             ],
             [
              0.2222222222222222,
              "#7201a8"
             ],
             [
              0.3333333333333333,
              "#9c179e"
             ],
             [
              0.4444444444444444,
              "#bd3786"
             ],
             [
              0.5555555555555556,
              "#d8576b"
             ],
             [
              0.6666666666666666,
              "#ed7953"
             ],
             [
              0.7777777777777778,
              "#fb9f3a"
             ],
             [
              0.8888888888888888,
              "#fdca26"
             ],
             [
              1,
              "#f0f921"
             ]
            ],
            "type": "histogram2dcontour"
           }
          ],
          "mesh3d": [
           {
            "colorbar": {
             "outlinewidth": 0,
             "ticks": ""
            },
            "type": "mesh3d"
           }
          ],
          "parcoords": [
           {
            "line": {
             "colorbar": {
              "outlinewidth": 0,
              "ticks": ""
             }
            },
            "type": "parcoords"
           }
          ],
          "pie": [
           {
            "automargin": true,
            "type": "pie"
           }
          ],
          "scatter": [
           {
            "fillpattern": {
             "fillmode": "overlay",
             "size": 10,
             "solidity": 0.2
            },
            "type": "scatter"
           }
          ],
          "scatter3d": [
           {
            "line": {
             "colorbar": {
              "outlinewidth": 0,
              "ticks": ""
             }
            },
            "marker": {
             "colorbar": {
              "outlinewidth": 0,
              "ticks": ""
             }
            },
            "type": "scatter3d"
           }
          ],
          "scattercarpet": [
           {
            "marker": {
             "colorbar": {
              "outlinewidth": 0,
              "ticks": ""
             }
            },
            "type": "scattercarpet"
           }
          ],
          "scattergeo": [
           {
            "marker": {
             "colorbar": {
              "outlinewidth": 0,
              "ticks": ""
             }
            },
            "type": "scattergeo"
           }
          ],
          "scattergl": [
           {
            "marker": {
             "colorbar": {
              "outlinewidth": 0,
              "ticks": ""
             }
            },
            "type": "scattergl"
           }
          ],
          "scattermapbox": [
           {
            "marker": {
             "colorbar": {
              "outlinewidth": 0,
              "ticks": ""
             }
            },
            "type": "scattermapbox"
           }
          ],
          "scatterpolar": [
           {
            "marker": {
             "colorbar": {
              "outlinewidth": 0,
              "ticks": ""
             }
            },
            "type": "scatterpolar"
           }
          ],
          "scatterpolargl": [
           {
            "marker": {
             "colorbar": {
              "outlinewidth": 0,
              "ticks": ""
             }
            },
            "type": "scatterpolargl"
           }
          ],
          "scatterternary": [
           {
            "marker": {
             "colorbar": {
              "outlinewidth": 0,
              "ticks": ""
             }
            },
            "type": "scatterternary"
           }
          ],
          "surface": [
           {
            "colorbar": {
             "outlinewidth": 0,
             "ticks": ""
            },
            "colorscale": [
             [
              0,
              "#0d0887"
             ],
             [
              0.1111111111111111,
              "#46039f"
             ],
             [
              0.2222222222222222,
              "#7201a8"
             ],
             [
              0.3333333333333333,
              "#9c179e"
             ],
             [
              0.4444444444444444,
              "#bd3786"
             ],
             [
              0.5555555555555556,
              "#d8576b"
             ],
             [
              0.6666666666666666,
              "#ed7953"
             ],
             [
              0.7777777777777778,
              "#fb9f3a"
             ],
             [
              0.8888888888888888,
              "#fdca26"
             ],
             [
              1,
              "#f0f921"
             ]
            ],
            "type": "surface"
           }
          ],
          "table": [
           {
            "cells": {
             "fill": {
              "color": "#EBF0F8"
             },
             "line": {
              "color": "white"
             }
            },
            "header": {
             "fill": {
              "color": "#C8D4E3"
             },
             "line": {
              "color": "white"
             }
            },
            "type": "table"
           }
          ]
         },
         "layout": {
          "annotationdefaults": {
           "arrowcolor": "#2a3f5f",
           "arrowhead": 0,
           "arrowwidth": 1
          },
          "autotypenumbers": "strict",
          "coloraxis": {
           "colorbar": {
            "outlinewidth": 0,
            "ticks": ""
           }
          },
          "colorscale": {
           "diverging": [
            [
             0,
             "#8e0152"
            ],
            [
             0.1,
             "#c51b7d"
            ],
            [
             0.2,
             "#de77ae"
            ],
            [
             0.3,
             "#f1b6da"
            ],
            [
             0.4,
             "#fde0ef"
            ],
            [
             0.5,
             "#f7f7f7"
            ],
            [
             0.6,
             "#e6f5d0"
            ],
            [
             0.7,
             "#b8e186"
            ],
            [
             0.8,
             "#7fbc41"
            ],
            [
             0.9,
             "#4d9221"
            ],
            [
             1,
             "#276419"
            ]
           ],
           "sequential": [
            [
             0,
             "#0d0887"
            ],
            [
             0.1111111111111111,
             "#46039f"
            ],
            [
             0.2222222222222222,
             "#7201a8"
            ],
            [
             0.3333333333333333,
             "#9c179e"
            ],
            [
             0.4444444444444444,
             "#bd3786"
            ],
            [
             0.5555555555555556,
             "#d8576b"
            ],
            [
             0.6666666666666666,
             "#ed7953"
            ],
            [
             0.7777777777777778,
             "#fb9f3a"
            ],
            [
             0.8888888888888888,
             "#fdca26"
            ],
            [
             1,
             "#f0f921"
            ]
           ],
           "sequentialminus": [
            [
             0,
             "#0d0887"
            ],
            [
             0.1111111111111111,
             "#46039f"
            ],
            [
             0.2222222222222222,
             "#7201a8"
            ],
            [
             0.3333333333333333,
             "#9c179e"
            ],
            [
             0.4444444444444444,
             "#bd3786"
            ],
            [
             0.5555555555555556,
             "#d8576b"
            ],
            [
             0.6666666666666666,
             "#ed7953"
            ],
            [
             0.7777777777777778,
             "#fb9f3a"
            ],
            [
             0.8888888888888888,
             "#fdca26"
            ],
            [
             1,
             "#f0f921"
            ]
           ]
          },
          "colorway": [
           "#636efa",
           "#EF553B",
           "#00cc96",
           "#ab63fa",
           "#FFA15A",
           "#19d3f3",
           "#FF6692",
           "#B6E880",
           "#FF97FF",
           "#FECB52"
          ],
          "font": {
           "color": "#2a3f5f"
          },
          "geo": {
           "bgcolor": "white",
           "lakecolor": "white",
           "landcolor": "#E5ECF6",
           "showlakes": true,
           "showland": true,
           "subunitcolor": "white"
          },
          "hoverlabel": {
           "align": "left"
          },
          "hovermode": "closest",
          "mapbox": {
           "style": "light"
          },
          "paper_bgcolor": "white",
          "plot_bgcolor": "#E5ECF6",
          "polar": {
           "angularaxis": {
            "gridcolor": "white",
            "linecolor": "white",
            "ticks": ""
           },
           "bgcolor": "#E5ECF6",
           "radialaxis": {
            "gridcolor": "white",
            "linecolor": "white",
            "ticks": ""
           }
          },
          "scene": {
           "xaxis": {
            "backgroundcolor": "#E5ECF6",
            "gridcolor": "white",
            "gridwidth": 2,
            "linecolor": "white",
            "showbackground": true,
            "ticks": "",
            "zerolinecolor": "white"
           },
           "yaxis": {
            "backgroundcolor": "#E5ECF6",
            "gridcolor": "white",
            "gridwidth": 2,
            "linecolor": "white",
            "showbackground": true,
            "ticks": "",
            "zerolinecolor": "white"
           },
           "zaxis": {
            "backgroundcolor": "#E5ECF6",
            "gridcolor": "white",
            "gridwidth": 2,
            "linecolor": "white",
            "showbackground": true,
            "ticks": "",
            "zerolinecolor": "white"
           }
          },
          "shapedefaults": {
           "line": {
            "color": "#2a3f5f"
           }
          },
          "ternary": {
           "aaxis": {
            "gridcolor": "white",
            "linecolor": "white",
            "ticks": ""
           },
           "baxis": {
            "gridcolor": "white",
            "linecolor": "white",
            "ticks": ""
           },
           "bgcolor": "#E5ECF6",
           "caxis": {
            "gridcolor": "white",
            "linecolor": "white",
            "ticks": ""
           }
          },
          "title": {
           "x": 0.05
          },
          "xaxis": {
           "automargin": true,
           "gridcolor": "white",
           "linecolor": "white",
           "ticks": "",
           "title": {
            "standoff": 15
           },
           "zerolinecolor": "white",
           "zerolinewidth": 2
          },
          "yaxis": {
           "automargin": true,
           "gridcolor": "white",
           "linecolor": "white",
           "ticks": "",
           "title": {
            "standoff": 15
           },
           "zerolinecolor": "white",
           "zerolinewidth": 2
          }
         }
        },
        "title": {
         "text": "Conversion rates using different attribution models"
        },
        "xaxis": {
         "autorange": true,
         "range": [
          -0.5,
          39.5
         ],
         "type": "linear"
        },
        "yaxis": {
         "autorange": true,
         "range": [
          0,
          0.9362400951999329
         ],
         "type": "linear"
        }
       }
      },
      "image/png": "[encoded data removed]",
      "text/html": [
       "<div>                            <div id=\"c7fba491-b9c3-4d96-acc4-5eb31f5f28bb\" class=\"plotly-graph-div\" style=\"height:525px; width:100%;\"></div>            <script type=\"text/javascript\">                require([\"plotly\"], function(Plotly) {                    window.PLOTLYENV=window.PLOTLYENV || {};                                    if (document.getElementById(\"c7fba491-b9c3-4d96-acc4-5eb31f5f28bb\")) {                    Plotly.newPlot(                        \"c7fba491-b9c3-4d96-acc4-5eb31f5f28bb\",                        [{\"name\":\"LTA\",\"x\":[0,1,2,3,4,5,6,7,8,9,10,11,12,13,14,15,16,17,18,19,20,21,22,23,24,25,26,27,28,29,30,31,32,33,34,35,36,37,38,39],\"y\":[0.3333333333333333,0.06329113924050633,0.36,0.5151515151515151,0.3548387096774194,0.18604651162790697,0.09615384615384616,0.37790697674418605,0.2535211267605634,0.379746835443038,0.2857142857142857,0.0967741935483871,0.6818181818181818,0.2903225806451613,0.4375,0.18181818181818182,0.38461538461538464,0.39285714285714285,0.7553191489361702,0.2222222222222222,0.17391304347826086,0.14545454545454545,0.36363636363636365,0.2631578947368421,0.41818181818181815,0.1791044776119403,0.3617021276595745,0.4835164835164835,0.1713221601489758,0.38461538461538464,0.16129032258064516,0.8571428571428571,0.4867924528301887,0.44871794871794873,0.21370967741935484,0.16666666666666666,0.5833333333333334,0.3253012048192771,0.46511627906976744,0.8807947019867549],\"type\":\"bar\"},{\"name\":\"LSTM-A\",\"x\":[0,1,2,3,4,5,6,7,8,9,10,11,12,13,14,15,16,17,18,19,20,21,22,23,24,25,26,27,28,29,30,31,32,33,34,35,36,37,38,39],\"y\":[0.7738336781371923,0.12102842126165653,0.6996988117317524,0.8781399224604393,0.08498414970493781,0.43342974811517654,0.1769552726511514,0.8492078987508761,0.4610374665767018,0.6638568117628062,0.439801257444464,0.16853638284086972,0.18838888595621348,0.5145831724648426,0.7908734831364793,0.39804686204832945,0.8894280904399362,0.31025352500242537,0.16763086349096454,0.3831284252735921,0.4072734986771902,0.25231524891461954,0.835252683846205,0.5981967075833756,0.4959338246477075,0.39166423582238896,0.8247917894619118,0.5674005613086159,0.33119127292465,0.3507055157623141,0.34905329689008047,0.7972920769615891,0.34993922752458523,0.6844538192203584,0.42896707913355636,0.3036447328540559,0.16076877604615158,0.7696397227581996,0.37602148480202624,0.19524528699633856],\"type\":\"bar\"}],                        {\"template\":{\"data\":{\"histogram2dcontour\":[{\"type\":\"histogram2dcontour\",\"colorbar\":{\"outlinewidth\":0,\"ticks\":\"\"},\"colorscale\":[[0.0,\"#0d0887\"],[0.1111111111111111,\"#46039f\"],[0.2222222222222222,\"#7201a8\"],[0.3333333333333333,\"#9c179e\"],[0.4444444444444444,\"#bd3786\"],[0.5555555555555556,\"#d8576b\"],[0.6666666666666666,\"#ed7953\"],[0.7777777777777778,\"#fb9f3a\"],[0.8888888888888888,\"#fdca26\"],[1.0,\"#f0f921\"]]}],\"choropleth\":[{\"type\":\"choropleth\",\"colorbar\":{\"outlinewidth\":0,\"ticks\":\"\"}}],\"histogram2d\":[{\"type\":\"histogram2d\",\"colorbar\":{\"outlinewidth\":0,\"ticks\":\"\"},\"colorscale\":[[0.0,\"#0d0887\"],[0.1111111111111111,\"#46039f\"],[0.2222222222222222,\"#7201a8\"],[0.3333333333333333,\"#9c179e\"],[0.4444444444444444,\"#bd3786\"],[0.5555555555555556,\"#d8576b\"],[0.6666666666666666,\"#ed7953\"],[0.7777777777777778,\"#fb9f3a\"],[0.8888888888888888,\"#fdca26\"],[1.0,\"#f0f921\"]]}],\"heatmap\":[{\"type\":\"heatmap\",\"colorbar\":{\"outlinewidth\":0,\"ticks\":\"\"},\"colorscale\":[[0.0,\"#0d0887\"],[0.1111111111111111,\"#46039f\"],[0.2222222222222222,\"#7201a8\"],[0.3333333333333333,\"#9c179e\"],[0.4444444444444444,\"#bd3786\"],[0.5555555555555556,\"#d8576b\"],[0.6666666666666666,\"#ed7953\"],[0.7777777777777778,\"#fb9f3a\"],[0.8888888888888888,\"#fdca26\"],[1.0,\"#f0f921\"]]}],\"heatmapgl\":[{\"type\":\"heatmapgl\",\"colorbar\":{\"outlinewidth\":0,\"ticks\":\"\"},\"colorscale\":[[0.0,\"#0d0887\"],[0.1111111111111111,\"#46039f\"],[0.2222222222222222,\"#7201a8\"],[0.3333333333333333,\"#9c179e\"],[0.4444444444444444,\"#bd3786\"],[0.5555555555555556,\"#d8576b\"],[0.6666666666666666,\"#ed7953\"],[0.7777777777777778,\"#fb9f3a\"],[0.8888888888888888,\"#fdca26\"],[1.0,\"#f0f921\"]]}],\"contourcarpet\":[{\"type\":\"contourcarpet\",\"colorbar\":{\"outlinewidth\":0,\"ticks\":\"\"}}],\"contour\":[{\"type\":\"contour\",\"colorbar\":{\"outlinewidth\":0,\"ticks\":\"\"},\"colorscale\":[[0.0,\"#0d0887\"],[0.1111111111111111,\"#46039f\"],[0.2222222222222222,\"#7201a8\"],[0.3333333333333333,\"#9c179e\"],[0.4444444444444444,\"#bd3786\"],[0.5555555555555556,\"#d8576b\"],[0.6666666666666666,\"#ed7953\"],[0.7777777777777778,\"#fb9f3a\"],[0.8888888888888888,\"#fdca26\"],[1.0,\"#f0f921\"]]}],\"surface\":[{\"type\":\"surface\",\"colorbar\":{\"outlinewidth\":0,\"ticks\":\"\"},\"colorscale\":[[0.0,\"#0d0887\"],[0.1111111111111111,\"#46039f\"],[0.2222222222222222,\"#7201a8\"],[0.3333333333333333,\"#9c179e\"],[0.4444444444444444,\"#bd3786\"],[0.5555555555555556,\"#d8576b\"],[0.6666666666666666,\"#ed7953\"],[0.7777777777777778,\"#fb9f3a\"],[0.8888888888888888,\"#fdca26\"],[1.0,\"#f0f921\"]]}],\"mesh3d\":[{\"type\":\"mesh3d\",\"colorbar\":{\"outlinewidth\":0,\"ticks\":\"\"}}],\"scatter\":[{\"fillpattern\":{\"fillmode\":\"overlay\",\"size\":10,\"solidity\":0.2},\"type\":\"scatter\"}],\"parcoords\":[{\"type\":\"parcoords\",\"line\":{\"colorbar\":{\"outlinewidth\":0,\"ticks\":\"\"}}}],\"scatterpolargl\":[{\"type\":\"scatterpolargl\",\"marker\":{\"colorbar\":{\"outlinewidth\":0,\"ticks\":\"\"}}}],\"bar\":[{\"error_x\":{\"color\":\"#2a3f5f\"},\"error_y\":{\"color\":\"#2a3f5f\"},\"marker\":{\"line\":{\"color\":\"#E5ECF6\",\"width\":0.5},\"pattern\":{\"fillmode\":\"overlay\",\"size\":10,\"solidity\":0.2}},\"type\":\"bar\"}],\"scattergeo\":[{\"type\":\"scattergeo\",\"marker\":{\"colorbar\":{\"outlinewidth\":0,\"ticks\":\"\"}}}],\"scatterpolar\":[{\"type\":\"scatterpolar\",\"marker\":{\"colorbar\":{\"outlinewidth\":0,\"ticks\":\"\"}}}],\"histogram\":[{\"marker\":{\"pattern\":{\"fillmode\":\"overlay\",\"size\":10,\"solidity\":0.2}},\"type\":\"histogram\"}],\"scattergl\":[{\"type\":\"scattergl\",\"marker\":{\"colorbar\":{\"outlinewidth\":0,\"ticks\":\"\"}}}],\"scatter3d\":[{\"type\":\"scatter3d\",\"line\":{\"colorbar\":{\"outlinewidth\":0,\"ticks\":\"\"}},\"marker\":{\"colorbar\":{\"outlinewidth\":0,\"ticks\":\"\"}}}],\"scattermapbox\":[{\"type\":\"scattermapbox\",\"marker\":{\"colorbar\":{\"outlinewidth\":0,\"ticks\":\"\"}}}],\"scatterternary\":[{\"type\":\"scatterternary\",\"marker\":{\"colorbar\":{\"outlinewidth\":0,\"ticks\":\"\"}}}],\"scattercarpet\":[{\"type\":\"scattercarpet\",\"marker\":{\"colorbar\":{\"outlinewidth\":0,\"ticks\":\"\"}}}],\"carpet\":[{\"aaxis\":{\"endlinecolor\":\"#2a3f5f\",\"gridcolor\":\"white\",\"linecolor\":\"white\",\"minorgridcolor\":\"white\",\"startlinecolor\":\"#2a3f5f\"},\"baxis\":{\"endlinecolor\":\"#2a3f5f\",\"gridcolor\":\"white\",\"linecolor\":\"white\",\"minorgridcolor\":\"white\",\"startlinecolor\":\"#2a3f5f\"},\"type\":\"carpet\"}],\"table\":[{\"cells\":{\"fill\":{\"color\":\"#EBF0F8\"},\"line\":{\"color\":\"white\"}},\"header\":{\"fill\":{\"color\":\"#C8D4E3\"},\"line\":{\"color\":\"white\"}},\"type\":\"table\"}],\"barpolar\":[{\"marker\":{\"line\":{\"color\":\"#E5ECF6\",\"width\":0.5},\"pattern\":{\"fillmode\":\"overlay\",\"size\":10,\"solidity\":0.2}},\"type\":\"barpolar\"}],\"pie\":[{\"automargin\":true,\"type\":\"pie\"}]},\"layout\":{\"autotypenumbers\":\"strict\",\"colorway\":[\"#636efa\",\"#EF553B\",\"#00cc96\",\"#ab63fa\",\"#FFA15A\",\"#19d3f3\",\"#FF6692\",\"#B6E880\",\"#FF97FF\",\"#FECB52\"],\"font\":{\"color\":\"#2a3f5f\"},\"hovermode\":\"closest\",\"hoverlabel\":{\"align\":\"left\"},\"paper_bgcolor\":\"white\",\"plot_bgcolor\":\"#E5ECF6\",\"polar\":{\"bgcolor\":\"#E5ECF6\",\"angularaxis\":{\"gridcolor\":\"white\",\"linecolor\":\"white\",\"ticks\":\"\"},\"radialaxis\":{\"gridcolor\":\"white\",\"linecolor\":\"white\",\"ticks\":\"\"}},\"ternary\":{\"bgcolor\":\"#E5ECF6\",\"aaxis\":{\"gridcolor\":\"white\",\"linecolor\":\"white\",\"ticks\":\"\"},\"baxis\":{\"gridcolor\":\"white\",\"linecolor\":\"white\",\"ticks\":\"\"},\"caxis\":{\"gridcolor\":\"white\",\"linecolor\":\"white\",\"ticks\":\"\"}},\"coloraxis\":{\"colorbar\":{\"outlinewidth\":0,\"ticks\":\"\"}},\"colorscale\":{\"sequential\":[[0.0,\"#0d0887\"],[0.1111111111111111,\"#46039f\"],[0.2222222222222222,\"#7201a8\"],[0.3333333333333333,\"#9c179e\"],[0.4444444444444444,\"#bd3786\"],[0.5555555555555556,\"#d8576b\"],[0.6666666666666666,\"#ed7953\"],[0.7777777777777778,\"#fb9f3a\"],[0.8888888888888888,\"#fdca26\"],[1.0,\"#f0f921\"]],\"sequentialminus\":[[0.0,\"#0d0887\"],[0.1111111111111111,\"#46039f\"],[0.2222222222222222,\"#7201a8\"],[0.3333333333333333,\"#9c179e\"],[0.4444444444444444,\"#bd3786\"],[0.5555555555555556,\"#d8576b\"],[0.6666666666666666,\"#ed7953\"],[0.7777777777777778,\"#fb9f3a\"],[0.8888888888888888,\"#fdca26\"],[1.0,\"#f0f921\"]],\"diverging\":[[0,\"#8e0152\"],[0.1,\"#c51b7d\"],[0.2,\"#de77ae\"],[0.3,\"#f1b6da\"],[0.4,\"#fde0ef\"],[0.5,\"#f7f7f7\"],[0.6,\"#e6f5d0\"],[0.7,\"#b8e186\"],[0.8,\"#7fbc41\"],[0.9,\"#4d9221\"],[1,\"#276419\"]]},\"xaxis\":{\"gridcolor\":\"white\",\"linecolor\":\"white\",\"ticks\":\"\",\"title\":{\"standoff\":15},\"zerolinecolor\":\"white\",\"automargin\":true,\"zerolinewidth\":2},\"yaxis\":{\"gridcolor\":\"white\",\"linecolor\":\"white\",\"ticks\":\"\",\"title\":{\"standoff\":15},\"zerolinecolor\":\"white\",\"automargin\":true,\"zerolinewidth\":2},\"scene\":{\"xaxis\":{\"backgroundcolor\":\"#E5ECF6\",\"gridcolor\":\"white\",\"linecolor\":\"white\",\"showbackground\":true,\"ticks\":\"\",\"zerolinecolor\":\"white\",\"gridwidth\":2},\"yaxis\":{\"backgroundcolor\":\"#E5ECF6\",\"gridcolor\":\"white\",\"linecolor\":\"white\",\"showbackground\":true,\"ticks\":\"\",\"zerolinecolor\":\"white\",\"gridwidth\":2},\"zaxis\":{\"backgroundcolor\":\"#E5ECF6\",\"gridcolor\":\"white\",\"linecolor\":\"white\",\"showbackground\":true,\"ticks\":\"\",\"zerolinecolor\":\"white\",\"gridwidth\":2}},\"shapedefaults\":{\"line\":{\"color\":\"#2a3f5f\"}},\"annotationdefaults\":{\"arrowcolor\":\"#2a3f5f\",\"arrowhead\":0,\"arrowwidth\":1},\"geo\":{\"bgcolor\":\"white\",\"landcolor\":\"#E5ECF6\",\"subunitcolor\":\"white\",\"showland\":true,\"showlakes\":true,\"lakecolor\":\"white\"},\"title\":{\"x\":0.05},\"mapbox\":{\"style\":\"light\"}}},\"title\":{\"text\":\"Conversion rates using different attribution models\"}},                        {\"responsive\": true}                    ).then(function(){\n",
       "                            \n",
       "var gd = document.getElementById('c7fba491-b9c3-4d96-acc4-5eb31f5f28bb');\n",
       "var x = new MutationObserver(function (mutations, observer) {{\n",
       "        var display = window.getComputedStyle(gd).display;\n",
       "        if (!display || display === 'none') {{\n",
       "            console.log([gd, 'removed!']);\n",
       "            Plotly.purge(gd);\n",
       "            observer.disconnect();\n",
       "        }}\n",
       "}});\n",
       "\n",
       "// Listen for the removal of the full notebook cells\n",
       "var notebookContainer = gd.closest('#notebook-container');\n",
       "if (notebookContainer) {{\n",
       "    x.observe(notebookContainer, {childList: true});\n",
       "}}\n",
       "\n",
       "// Listen for the clearing of the current output cell\n",
       "var outputEl = gd.closest('.output');\n",
       "if (outputEl) {{\n",
       "    x.observe(outputEl, {childList: true});\n",
       "}}\n",
       "\n",
       "                        })                };                });            </script>        </div>"
      ]
     },
     "metadata": {},
     "output_type": "display_data"
    }
   ],
   "source": [
    "fig = go.Figure()\n",
    "fig.add_trace(go.Bar(x=np.arange(len(campaign_idx)), y=attr_lta[campaign_idx], name='LTA'))\n",
    "fig.add_trace(go.Bar(x=np.arange(len(campaign_idx)), y=attr_lstm_a_norm[campaign_idx], name='LSTM-A'))\n",
    "fig.update_layout(title='Conversion rates using different attribution models')\n",
    "fig.show()"
   ]
  },
  {
   "cell_type": "code",
   "execution_count": null,
   "id": "03f79076-cc34-4b6e-a9f6-875be962c391",
   "metadata": {},
   "outputs": [],
   "source": []
  }
 ],
 "metadata": {
  "kernelspec": {
   "display_name": "Python 3 (ipykernel)",
   "language": "python",
   "name": "python3"
  },
  "language_info": {
   "codemirror_mode": {
    "name": "ipython",
    "version": 3
   },
   "file_extension": ".py",
   "mimetype": "text/x-python",
   "name": "python",
   "nbconvert_exporter": "python",
   "pygments_lexer": "ipython3",
   "version": "3.9.12"
  }
 },
 "nbformat": 4,
 "nbformat_minor": 5
}
